{
 "cells": [
  {
   "cell_type": "markdown",
   "metadata": {},
   "source": [
    "## Electrical Element Detector ##"
   ]
  },
  {
   "cell_type": "markdown",
   "metadata": {},
   "source": [
    "First, I want to make using tensorflow an image classifier that seperates different electrical elements. After that, I plan to use the model in different applications. \n",
    "So, let's begin\n"
   ]
  },
  {
   "cell_type": "markdown",
   "metadata": {},
   "source": [
    "So first, I will install my libraries that I will be using. It is important to note that I am using a virtual environment as I am using several versions of Python on my laptop and I will find it easy to depict with certainty the python and pip I am using with a virtual environment\n"
   ]
  },
  {
   "cell_type": "code",
   "execution_count": 7,
   "metadata": {},
   "outputs": [
    {
     "name": "stdout",
     "output_type": "stream",
     "text": [
      "Requirement already satisfied: opencv-python in ./project_env/lib/python3.8/site-packages (4.5.5.64)\n",
      "Requirement already satisfied: tensorflow in ./project_env/lib/python3.8/site-packages (2.9.1)\n",
      "Requirement already satisfied: matplotlib in ./project_env/lib/python3.8/site-packages (3.5.2)\n",
      "Requirement already satisfied: numpy>=1.17.3 in ./project_env/lib/python3.8/site-packages (from opencv-python) (1.22.4)\n",
      "Requirement already satisfied: h5py>=2.9.0 in ./project_env/lib/python3.8/site-packages (from tensorflow) (3.7.0)\n",
      "Requirement already satisfied: tensorboard<2.10,>=2.9 in ./project_env/lib/python3.8/site-packages (from tensorflow) (2.9.0)\n",
      "Requirement already satisfied: typing-extensions>=3.6.6 in ./project_env/lib/python3.8/site-packages (from tensorflow) (4.2.0)\n",
      "Requirement already satisfied: keras-preprocessing>=1.1.1 in ./project_env/lib/python3.8/site-packages (from tensorflow) (1.1.2)\n",
      "Requirement already satisfied: setuptools in ./project_env/lib/python3.8/site-packages (from tensorflow) (49.2.1)\n",
      "Requirement already satisfied: tensorflow-estimator<2.10.0,>=2.9.0rc0 in ./project_env/lib/python3.8/site-packages (from tensorflow) (2.9.0)\n",
      "Requirement already satisfied: tensorflow-io-gcs-filesystem>=0.23.1 in ./project_env/lib/python3.8/site-packages (from tensorflow) (0.26.0)\n",
      "Requirement already satisfied: libclang>=13.0.0 in ./project_env/lib/python3.8/site-packages (from tensorflow) (14.0.1)\n",
      "Requirement already satisfied: gast<=0.4.0,>=0.2.1 in ./project_env/lib/python3.8/site-packages (from tensorflow) (0.4.0)\n",
      "Requirement already satisfied: packaging in ./project_env/lib/python3.8/site-packages (from tensorflow) (21.3)\n",
      "Requirement already satisfied: opt-einsum>=2.3.2 in ./project_env/lib/python3.8/site-packages (from tensorflow) (3.3.0)\n",
      "Requirement already satisfied: astunparse>=1.6.0 in ./project_env/lib/python3.8/site-packages (from tensorflow) (1.6.3)\n",
      "Requirement already satisfied: absl-py>=1.0.0 in ./project_env/lib/python3.8/site-packages (from tensorflow) (1.0.0)\n",
      "Requirement already satisfied: flatbuffers<2,>=1.12 in ./project_env/lib/python3.8/site-packages (from tensorflow) (1.12)\n",
      "Requirement already satisfied: protobuf<3.20,>=3.9.2 in ./project_env/lib/python3.8/site-packages (from tensorflow) (3.19.4)\n",
      "Requirement already satisfied: termcolor>=1.1.0 in ./project_env/lib/python3.8/site-packages (from tensorflow) (1.1.0)\n",
      "Requirement already satisfied: google-pasta>=0.1.1 in ./project_env/lib/python3.8/site-packages (from tensorflow) (0.2.0)\n",
      "Requirement already satisfied: keras<2.10.0,>=2.9.0rc0 in ./project_env/lib/python3.8/site-packages (from tensorflow) (2.9.0)\n",
      "Requirement already satisfied: grpcio<2.0,>=1.24.3 in ./project_env/lib/python3.8/site-packages (from tensorflow) (1.46.3)\n",
      "Requirement already satisfied: six>=1.12.0 in ./project_env/lib/python3.8/site-packages (from tensorflow) (1.16.0)\n",
      "Requirement already satisfied: wrapt>=1.11.0 in ./project_env/lib/python3.8/site-packages (from tensorflow) (1.14.1)\n",
      "Requirement already satisfied: python-dateutil>=2.7 in ./project_env/lib/python3.8/site-packages (from matplotlib) (2.8.2)\n",
      "Requirement already satisfied: kiwisolver>=1.0.1 in ./project_env/lib/python3.8/site-packages (from matplotlib) (1.4.2)\n",
      "Requirement already satisfied: fonttools>=4.22.0 in ./project_env/lib/python3.8/site-packages (from matplotlib) (4.33.3)\n",
      "Requirement already satisfied: pyparsing>=2.2.1 in ./project_env/lib/python3.8/site-packages (from matplotlib) (3.0.9)\n",
      "Requirement already satisfied: pillow>=6.2.0 in ./project_env/lib/python3.8/site-packages (from matplotlib) (9.1.1)\n",
      "Requirement already satisfied: cycler>=0.10 in ./project_env/lib/python3.8/site-packages (from matplotlib) (0.11.0)\n",
      "Requirement already satisfied: wheel<1.0,>=0.23.0 in ./project_env/lib/python3.8/site-packages (from astunparse>=1.6.0->tensorflow) (0.37.1)\n",
      "Requirement already satisfied: markdown>=2.6.8 in ./project_env/lib/python3.8/site-packages (from tensorboard<2.10,>=2.9->tensorflow) (3.3.7)\n",
      "Requirement already satisfied: tensorboard-data-server<0.7.0,>=0.6.0 in ./project_env/lib/python3.8/site-packages (from tensorboard<2.10,>=2.9->tensorflow) (0.6.1)\n",
      "Requirement already satisfied: google-auth-oauthlib<0.5,>=0.4.1 in ./project_env/lib/python3.8/site-packages (from tensorboard<2.10,>=2.9->tensorflow) (0.4.6)\n",
      "Requirement already satisfied: google-auth<3,>=1.6.3 in ./project_env/lib/python3.8/site-packages (from tensorboard<2.10,>=2.9->tensorflow) (2.6.6)\n",
      "Requirement already satisfied: werkzeug>=1.0.1 in ./project_env/lib/python3.8/site-packages (from tensorboard<2.10,>=2.9->tensorflow) (2.1.2)\n",
      "Requirement already satisfied: requests<3,>=2.21.0 in ./project_env/lib/python3.8/site-packages (from tensorboard<2.10,>=2.9->tensorflow) (2.27.1)\n",
      "Requirement already satisfied: tensorboard-plugin-wit>=1.6.0 in ./project_env/lib/python3.8/site-packages (from tensorboard<2.10,>=2.9->tensorflow) (1.8.1)\n",
      "Requirement already satisfied: rsa<5,>=3.1.4 in ./project_env/lib/python3.8/site-packages (from google-auth<3,>=1.6.3->tensorboard<2.10,>=2.9->tensorflow) (4.8)\n",
      "Requirement already satisfied: cachetools<6.0,>=2.0.0 in ./project_env/lib/python3.8/site-packages (from google-auth<3,>=1.6.3->tensorboard<2.10,>=2.9->tensorflow) (5.1.0)\n",
      "Requirement already satisfied: pyasn1-modules>=0.2.1 in ./project_env/lib/python3.8/site-packages (from google-auth<3,>=1.6.3->tensorboard<2.10,>=2.9->tensorflow) (0.2.8)\n",
      "Requirement already satisfied: requests-oauthlib>=0.7.0 in ./project_env/lib/python3.8/site-packages (from google-auth-oauthlib<0.5,>=0.4.1->tensorboard<2.10,>=2.9->tensorflow) (1.3.1)\n",
      "Requirement already satisfied: importlib-metadata>=4.4 in ./project_env/lib/python3.8/site-packages (from markdown>=2.6.8->tensorboard<2.10,>=2.9->tensorflow) (4.11.4)\n",
      "Requirement already satisfied: certifi>=2017.4.17 in ./project_env/lib/python3.8/site-packages (from requests<3,>=2.21.0->tensorboard<2.10,>=2.9->tensorflow) (2022.5.18.1)\n",
      "Requirement already satisfied: idna<4,>=2.5 in ./project_env/lib/python3.8/site-packages (from requests<3,>=2.21.0->tensorboard<2.10,>=2.9->tensorflow) (3.3)\n",
      "Requirement already satisfied: urllib3<1.27,>=1.21.1 in ./project_env/lib/python3.8/site-packages (from requests<3,>=2.21.0->tensorboard<2.10,>=2.9->tensorflow) (1.26.9)\n",
      "Requirement already satisfied: charset-normalizer~=2.0.0 in ./project_env/lib/python3.8/site-packages (from requests<3,>=2.21.0->tensorboard<2.10,>=2.9->tensorflow) (2.0.12)\n",
      "Requirement already satisfied: zipp>=0.5 in ./project_env/lib/python3.8/site-packages (from importlib-metadata>=4.4->markdown>=2.6.8->tensorboard<2.10,>=2.9->tensorflow) (3.8.0)\n",
      "Requirement already satisfied: pyasn1<0.5.0,>=0.4.6 in ./project_env/lib/python3.8/site-packages (from pyasn1-modules>=0.2.1->google-auth<3,>=1.6.3->tensorboard<2.10,>=2.9->tensorflow) (0.4.8)\n",
      "Requirement already satisfied: oauthlib>=3.0.0 in ./project_env/lib/python3.8/site-packages (from requests-oauthlib>=0.7.0->google-auth-oauthlib<0.5,>=0.4.1->tensorboard<2.10,>=2.9->tensorflow) (3.2.0)\n"
     ]
    }
   ],
   "source": [
    "!pip install opencv-python tensorflow matplotlib"
   ]
  },
  {
   "cell_type": "code",
   "execution_count": 8,
   "metadata": {},
   "outputs": [
    {
     "name": "stdout",
     "output_type": "stream",
     "text": [
      "Requirement already satisfied: pip in ./project_env/lib/python3.8/site-packages (22.1.2)\n"
     ]
    }
   ],
   "source": [
    "!pip install --upgrade pip"
   ]
  },
  {
   "cell_type": "code",
   "execution_count": 3,
   "metadata": {},
   "outputs": [],
   "source": [
    "import tensorflow as tf\n",
    "import os\n",
    "import numpy as np\n",
    "from matplotlib import pyplot as plt\n",
    "from tensorflow.keras.models  import Sequential\n",
    "from tensorflow.keras.layers import Conv2D, MaxPooling2D,Dense,Flatten,Dropout\n",
    "from tensorflow.keras.metrics import Precision, Recall, BinaryAccuracy\n",
    "import cv2\n",
    "import Augmentor as aug\n"
   ]
  },
  {
   "cell_type": "markdown",
   "metadata": {},
   "source": [
    "elements = [Resistor,Voltage Source,Current Source,Inductor, Capacitor,Dependent Voltage Source,Dependent Current Source,Ground,Operational Amplifiers,Diode, Bipolar Junction Transistor,Field Effect Transistor]"
   ]
  },
  {
   "cell_type": "code",
   "execution_count": 9,
   "metadata": {},
   "outputs": [],
   "source": [
    "elements = ['R','vs','is','L','C','dvs','dis','gnd','opamp','diode','bjt','mosfet']"
   ]
  },
  {
   "cell_type": "code",
   "execution_count": 4,
   "metadata": {},
   "outputs": [
    {
     "data": {
      "text/plain": [
       "'data/vs'"
      ]
     },
     "execution_count": 4,
     "metadata": {},
     "output_type": "execute_result"
    }
   ],
   "source": [
    "os.path.join('data','R')\n",
    "os.path.join('data','vs')\n"
   ]
  },
  {
   "cell_type": "code",
   "execution_count": 5,
   "metadata": {},
   "outputs": [
    {
     "ename": "NameError",
     "evalue": "name 'elements' is not defined",
     "output_type": "error",
     "traceback": [
      "\u001b[0;31m---------------------------------------------------------------------------\u001b[0m",
      "\u001b[0;31mNameError\u001b[0m                                 Traceback (most recent call last)",
      "\u001b[1;32m/Users/oreadeniyi/Desktop/CircuitsAI/element_detector.ipynb Cell 10'\u001b[0m in \u001b[0;36m<cell line: 1>\u001b[0;34m()\u001b[0m\n\u001b[0;32m----> <a href='vscode-notebook-cell:/Users/oreadeniyi/Desktop/CircuitsAI/element_detector.ipynb#ch0000009?line=0'>1</a>\u001b[0m \u001b[39mfor\u001b[39;00m element \u001b[39min\u001b[39;00m elements: \n\u001b[1;32m      <a href='vscode-notebook-cell:/Users/oreadeniyi/Desktop/CircuitsAI/element_detector.ipynb#ch0000009?line=1'>2</a>\u001b[0m     directory \u001b[39m=\u001b[39m os\u001b[39m.\u001b[39mpath\u001b[39m.\u001b[39mjoin(\u001b[39m'\u001b[39m\u001b[39mdata\u001b[39m\u001b[39m'\u001b[39m,element)\n\u001b[1;32m      <a href='vscode-notebook-cell:/Users/oreadeniyi/Desktop/CircuitsAI/element_detector.ipynb#ch0000009?line=2'>3</a>\u001b[0m     \u001b[39mif\u001b[39;00m \u001b[39mnot\u001b[39;00m os\u001b[39m.\u001b[39mpath\u001b[39m.\u001b[39mexists(directory):\n",
      "\u001b[0;31mNameError\u001b[0m: name 'elements' is not defined"
     ]
    }
   ],
   "source": [
    "for element in elements: \n",
    "    directory = os.path.join('data',element)\n",
    "    if not os.path.exists(directory):\n",
    "        os.mkdir(directory)\n"
   ]
  },
  {
   "cell_type": "markdown",
   "metadata": {},
   "source": [
    "First, my thinking here is to augment the data by performing some rotations and also to add more symbols. \n"
   ]
  },
  {
   "cell_type": "code",
   "execution_count": 12,
   "metadata": {},
   "outputs": [
    {
     "name": "stdout",
     "output_type": "stream",
     "text": [
      "Requirement already satisfied: augmentor in ./project_env/lib/python3.8/site-packages (0.2.10)\n",
      "Requirement already satisfied: future>=0.16.0 in ./project_env/lib/python3.8/site-packages (from augmentor) (0.18.2)\n",
      "Requirement already satisfied: Pillow>=5.2.0 in ./project_env/lib/python3.8/site-packages (from augmentor) (9.1.1)\n",
      "Requirement already satisfied: tqdm>=4.9.0 in ./project_env/lib/python3.8/site-packages (from augmentor) (4.64.0)\n",
      "Requirement already satisfied: numpy>=1.11.0 in ./project_env/lib/python3.8/site-packages (from augmentor) (1.22.4)\n"
     ]
    }
   ],
   "source": [
    "!pip install augmentor"
   ]
  },
  {
   "cell_type": "code",
   "execution_count": 6,
   "metadata": {},
   "outputs": [],
   "source": [
    "import Augmentor as aug"
   ]
  },
  {
   "cell_type": "markdown",
   "metadata": {},
   "source": [
    "Declare an augmentation pipeline"
   ]
  },
  {
   "cell_type": "code",
   "execution_count": 274,
   "metadata": {},
   "outputs": [
    {
     "name": "stdout",
     "output_type": "stream",
     "text": [
      "Initialised with 10 image(s) found.\n",
      "Output directory set to data/R/output."
     ]
    }
   ],
   "source": [
    "image_pipeline = aug.Pipeline(\"data/R\")"
   ]
  },
  {
   "cell_type": "markdown",
   "metadata": {},
   "source": [
    "So, I'll add this at the top of the tensorflow pipeline"
   ]
  },
  {
   "cell_type": "markdown",
   "metadata": {},
   "source": [
    "I defined a function in case I require more classes. "
   ]
  },
  {
   "cell_type": "code",
   "execution_count": 15,
   "metadata": {},
   "outputs": [],
   "source": [
    "def ImagePipeline(filename,image_number):\n",
    "    image_pipeline = aug.Pipeline(filename)\n",
    "    image_pipeline.rotate(probability=0.7,max_left_rotation=12.5,max_right_rotation=12.5)\n",
    "    image_pipeline.random_color(probability=0.5,min_factor=0.3,max_factor=.7)\n",
    "    image_pipeline.flip_random(probability=0.5)\n",
    "    image_pipeline.random_distortion(probability=0.5,grid_height=6,grid_width=6,magnitude=5)\n",
    "    image_pipeline.scale(probability=0.2,scale_factor=2)\n",
    "    image_pipeline.scale(probability=0.2,scale_factor=3)\n",
    "\n",
    "    image_pipeline.rotate180(probability=0.5)\n",
    "    image_pipeline.rotate270(probability=0.5)\n",
    "    image_pipeline.rotate90(probability=0.5)\n",
    "    image_pipeline.sample(image_number)\n",
    "\n",
    "    image_pipeline.process()\n",
    "   \n",
    "    \n",
    "    \n",
    "    "
   ]
  },
  {
   "cell_type": "markdown",
   "metadata": {},
   "source": [
    "So, after gettig the images of a category, I ran it through the pipeline"
   ]
  },
  {
   "cell_type": "code",
   "execution_count": 16,
   "metadata": {},
   "outputs": [
    {
     "name": "stdout",
     "output_type": "stream",
     "text": [
      "Initialised with 29 image(s) found.\n",
      "Output directory set to data/R/output."
     ]
    },
    {
     "name": "stderr",
     "output_type": "stream",
     "text": [
      "Processing <PIL.Image.Image image mode=RGBA size=3650x1732 at 0x7FD88DE4DE50>: 100%|██████████| 1/1 [00:01<00:00,  1.67s/ Samples]\n",
      "Processing <PIL.Image.Image image mode=RGBA size=2478x1428 at 0x7FD87363A1F0>:   3%|▎         | 1/29 [00:02<01:13,  2.63s/ Samples]"
     ]
    }
   ],
   "source": [
    "for element in elements:\n",
    "    ImagePipeline(os.path.join('data',element),10000)"
   ]
  },
  {
   "cell_type": "code",
   "execution_count": 651,
   "metadata": {},
   "outputs": [
    {
     "name": "stdout",
     "output_type": "stream",
     "text": [
      "Found 120738 files belonging to 12 classes.\n"
     ]
    },
    {
     "name": "stderr",
     "output_type": "stream",
     "text": [
      "2022-06-10 06:06:03.544550: I tensorflow/core/kernels/data/shuffle_dataset_op.cc:390] Filling up shuffle buffer (this may take a while): 128 of 400\n",
      "2022-06-10 06:06:11.266480: I tensorflow/core/kernels/data/shuffle_dataset_op.cc:415] Shuffle buffer filled.\n"
     ]
    },
    {
     "data": {
      "image/png": "[encoded data removed]",
      "text/plain": [
       "<Figure size 1440x1440 with 4 Axes>"
      ]
     },
     "metadata": {
      "needs_background": "light"
     },
     "output_type": "display_data"
    }
   ],
   "source": [
    "data = tf.keras.utils.image_dataset_from_directory('data',batch_size=50)\n",
    "\n",
    "data_iterator = data.as_numpy_iterator()\n",
    "batch = data_iterator.next()\n",
    "fig, ax = plt.subplots(ncols=4,figsize=(20,20))\n",
    "for idx, img in enumerate(batch[0][:4]):\n",
    "    ax[idx].imshow(img.astype(int))\n",
    "    ax[idx].title.set_text(batch[1][idx])\n"
   ]
  },
  {
   "cell_type": "code",
   "execution_count": 652,
   "metadata": {},
   "outputs": [],
   "source": [
    "data = data.map(lambda x, y :(x/255,y))\n"
   ]
  },
  {
   "cell_type": "code",
   "execution_count": 653,
   "metadata": {},
   "outputs": [
    {
     "data": {
      "text/plain": [
       "2415"
      ]
     },
     "execution_count": 653,
     "metadata": {},
     "output_type": "execute_result"
    }
   ],
   "source": [
    "len(data)"
   ]
  },
  {
   "cell_type": "code",
   "execution_count": 654,
   "metadata": {},
   "outputs": [],
   "source": [
    "train_size=1455\n",
    "test_size=480\n",
    "val_size=480"
   ]
  },
  {
   "cell_type": "code",
   "execution_count": 655,
   "metadata": {},
   "outputs": [
    {
     "data": {
      "text/plain": [
       "True"
      ]
     },
     "execution_count": 655,
     "metadata": {},
     "output_type": "execute_result"
    }
   ],
   "source": [
    "\n",
    "len(data)== (train_size+test_size+val_size)"
   ]
  },
  {
   "cell_type": "code",
   "execution_count": 656,
   "metadata": {},
   "outputs": [],
   "source": [
    "train = data.take(train_size)\n",
    "val = data.skip(train_size).take(val_size)\n",
    "test = data.skip(train_size+val_size).take(test_size)\n"
   ]
  },
  {
   "cell_type": "markdown",
   "metadata": {},
   "source": [
    "## Deep Learning Model ##"
   ]
  },
  {
   "cell_type": "code",
   "execution_count": 2,
   "metadata": {},
   "outputs": [],
   "source": [
    "from tensorflow.keras.models  import Sequential\n",
    "from tensorflow.keras.layers import Conv2D, MaxPooling2D,Dense,Flatten,Dropout"
   ]
  },
  {
   "cell_type": "code",
   "execution_count": 3,
   "metadata": {},
   "outputs": [],
   "source": [
    "from tensorflow.keras.applications.vgg16 import VGG16"
   ]
  },
  {
   "cell_type": "code",
   "execution_count": 659,
   "metadata": {},
   "outputs": [],
   "source": [
    "vgg16_model = VGG16(pooling='avg',weights='imagenet',include_top=False,input_shape=(256,256,3))\n",
    "for layers in vgg16_model.layers:\n",
    "    layers.trainable = False\n",
    "last_output = vgg16_model.layers[-1].output\n",
    "vgg_x = Flatten()(last_output)\n",
    "\n",
    "vgg_x = Dense(256, activation = 'relu')(vgg_x)\n",
    "vgg_x = Dense(12, activation = 'softmax')(vgg_x)\n",
    "\n",
    "vgg16_final_model = tf.keras.Model(vgg16_model.input, vgg_x)\n",
    "vgg16_final_model.compile(loss = 'sparse_categorical_crossentropy', optimizer= 'adam', metrics=['acc'])\n",
    "\n"
   ]
  },
  {
   "cell_type": "code",
   "execution_count": 660,
   "metadata": {},
   "outputs": [
    {
     "name": "stdout",
     "output_type": "stream",
     "text": [
      "Epoch 1/10\n"
     ]
    },
    {
     "name": "stderr",
     "output_type": "stream",
     "text": [
      "2022-06-10 06:07:22.050740: I tensorflow/core/kernels/data/shuffle_dataset_op.cc:390] Filling up shuffle buffer (this may take a while): 254 of 400\n",
      "2022-06-10 06:07:24.796133: I tensorflow/core/kernels/data/shuffle_dataset_op.cc:415] Shuffle buffer filled.\n"
     ]
    },
    {
     "name": "stdout",
     "output_type": "stream",
     "text": [
      "  23/1455 [..............................] - ETA: 3:12:14 - loss: 2.4209 - acc: 0.1713"
     ]
    },
    {
     "name": "stderr",
     "output_type": "stream",
     "text": [
      "2022-06-10 06:10:34.270553: W tensorflow/core/lib/png/png_io.cc:88] PNG warning: cHRM: invalid chromaticities\n"
     ]
    },
    {
     "name": "stdout",
     "output_type": "stream",
     "text": [
      " 262/1455 [====>.........................] - ETA: 2:39:21 - loss: 1.6311 - acc: 0.5199"
     ]
    },
    {
     "name": "stderr",
     "output_type": "stream",
     "text": [
      "2022-06-10 06:42:28.614372: W tensorflow/core/lib/png/png_io.cc:88] PNG warning: cHRM: invalid chromaticities\n"
     ]
    },
    {
     "name": "stdout",
     "output_type": "stream",
     "text": [
      " 340/1455 [======>.......................] - ETA: 2:28:24 - loss: 1.4808 - acc: 0.5678"
     ]
    },
    {
     "name": "stderr",
     "output_type": "stream",
     "text": [
      "2022-06-10 06:52:44.891041: W tensorflow/core/lib/png/png_io.cc:88] PNG warning: cHRM: invalid chromaticities\n"
     ]
    },
    {
     "name": "stdout",
     "output_type": "stream",
     "text": [
      " 496/1455 [=========>....................] - ETA: 2:06:51 - loss: 1.2679 - acc: 0.6333"
     ]
    },
    {
     "name": "stderr",
     "output_type": "stream",
     "text": [
      "2022-06-10 07:13:05.713563: W tensorflow/core/lib/png/png_io.cc:88] PNG warning: cHRM: invalid chromaticities\n"
     ]
    },
    {
     "name": "stdout",
     "output_type": "stream",
     "text": [
      " 752/1455 [==============>...............] - ETA: 1:32:28 - loss: 1.0507 - acc: 0.6977"
     ]
    },
    {
     "name": "stderr",
     "output_type": "stream",
     "text": [
      "2022-06-10 07:46:24.315855: W tensorflow/core/lib/png/png_io.cc:88] PNG warning: cHRM: invalid chromaticities\n"
     ]
    },
    {
     "name": "stdout",
     "output_type": "stream",
     "text": [
      " 976/1455 [===================>..........] - ETA: 1:02:56 - loss: 0.9188 - acc: 0.7359"
     ]
    },
    {
     "name": "stderr",
     "output_type": "stream",
     "text": [
      "2022-06-10 08:15:43.111231: W tensorflow/core/lib/png/png_io.cc:88] PNG warning: cHRM: invalid chromaticities\n"
     ]
    },
    {
     "name": "stdout",
     "output_type": "stream",
     "text": [
      "1311/1455 [==========================>...] - ETA: 18:53 - loss: 0.7832 - acc: 0.7755"
     ]
    },
    {
     "name": "stderr",
     "output_type": "stream",
     "text": [
      "2022-06-10 08:59:29.472701: W tensorflow/core/lib/png/png_io.cc:88] PNG warning: cHRM: invalid chromaticities\n"
     ]
    },
    {
     "name": "stdout",
     "output_type": "stream",
     "text": [
      "1455/1455 [==============================] - ETA: 0s - loss: 0.7388 - acc: 0.7879"
     ]
    },
    {
     "name": "stderr",
     "output_type": "stream",
     "text": [
      "2022-06-10 09:18:25.333211: I tensorflow/core/kernels/data/shuffle_dataset_op.cc:390] Filling up shuffle buffer (this may take a while): 335 of 400\n",
      "2022-06-10 09:18:26.188325: I tensorflow/core/kernels/data/shuffle_dataset_op.cc:415] Shuffle buffer filled.\n",
      "2022-06-10 09:19:09.845297: W tensorflow/core/lib/png/png_io.cc:88] PNG warning: cHRM: invalid chromaticities\n",
      "2022-06-10 09:24:07.607473: W tensorflow/core/lib/png/png_io.cc:88] PNG warning: cHRM: invalid chromaticities\n",
      "2022-06-10 09:25:51.200898: W tensorflow/core/lib/png/png_io.cc:88] PNG warning: cHRM: invalid chromaticities\n",
      "2022-06-10 09:29:12.729196: W tensorflow/core/lib/png/png_io.cc:88] PNG warning: cHRM: invalid chromaticities\n",
      "2022-06-10 09:34:53.523795: W tensorflow/core/lib/png/png_io.cc:88] PNG warning: cHRM: invalid chromaticities\n",
      "2022-06-10 09:39:56.714950: W tensorflow/core/lib/png/png_io.cc:88] PNG warning: cHRM: invalid chromaticities\n",
      "2022-06-10 09:47:20.123010: W tensorflow/core/lib/png/png_io.cc:88] PNG warning: cHRM: invalid chromaticities\n",
      "2022-06-10 10:30:03.844077: W tensorflow/core/lib/png/png_io.cc:88] PNG warning: cHRM: invalid chromaticities\n",
      "2022-06-10 10:30:28.524310: W tensorflow/core/lib/png/png_io.cc:88] PNG warning: cHRM: invalid chromaticities\n"
     ]
    },
    {
     "name": "stdout",
     "output_type": "stream",
     "text": [
      "1455/1455 [==============================] - 17166s 12s/step - loss: 0.7388 - acc: 0.7879 - val_loss: 0.3077 - val_acc: 0.9197\n",
      "Epoch 2/10\n"
     ]
    },
    {
     "name": "stderr",
     "output_type": "stream",
     "text": [
      "2022-06-10 10:53:27.105437: I tensorflow/core/kernels/data/shuffle_dataset_op.cc:390] Filling up shuffle buffer (this may take a while): 335 of 400\n",
      "2022-06-10 10:53:28.057871: I tensorflow/core/kernels/data/shuffle_dataset_op.cc:415] Shuffle buffer filled.\n"
     ]
    },
    {
     "name": "stdout",
     "output_type": "stream",
     "text": [
      "  23/1455 [..............................] - ETA: 3:08:29 - loss: 0.3240 - acc: 0.9104"
     ]
    },
    {
     "name": "stderr",
     "output_type": "stream",
     "text": [
      "2022-06-10 10:56:33.545300: W tensorflow/core/lib/png/png_io.cc:88] PNG warning: cHRM: invalid chromaticities\n"
     ]
    },
    {
     "name": "stdout",
     "output_type": "stream",
     "text": [
      " 262/1455 [====>.........................] - ETA: 2:38:43 - loss: 0.2966 - acc: 0.9206"
     ]
    },
    {
     "name": "stderr",
     "output_type": "stream",
     "text": [
      "2022-06-10 11:28:22.905283: W tensorflow/core/lib/png/png_io.cc:88] PNG warning: cHRM: invalid chromaticities\n"
     ]
    },
    {
     "name": "stdout",
     "output_type": "stream",
     "text": [
      " 340/1455 [======>.......................] - ETA: 2:29:03 - loss: 0.2886 - acc: 0.9229"
     ]
    },
    {
     "name": "stderr",
     "output_type": "stream",
     "text": [
      "2022-06-10 11:38:59.481525: W tensorflow/core/lib/png/png_io.cc:88] PNG warning: cHRM: invalid chromaticities\n"
     ]
    },
    {
     "name": "stdout",
     "output_type": "stream",
     "text": [
      " 496/1455 [=========>....................] - ETA: 2:11:10 - loss: 0.2761 - acc: 0.9260"
     ]
    },
    {
     "name": "stderr",
     "output_type": "stream",
     "text": [
      "2022-06-10 12:01:22.170376: W tensorflow/core/lib/png/png_io.cc:88] PNG warning: cHRM: invalid chromaticities\n"
     ]
    },
    {
     "name": "stdout",
     "output_type": "stream",
     "text": [
      " 752/1455 [==============>...............] - ETA: 1:39:27 - loss: 0.2621 - acc: 0.9305"
     ]
    },
    {
     "name": "stderr",
     "output_type": "stream",
     "text": [
      "2022-06-10 12:39:55.209194: W tensorflow/core/lib/png/png_io.cc:88] PNG warning: cHRM: invalid chromaticities\n"
     ]
    },
    {
     "name": "stdout",
     "output_type": "stream",
     "text": [
      " 976/1455 [===================>..........] - ETA: 1:07:51 - loss: 0.2479 - acc: 0.9347"
     ]
    },
    {
     "name": "stderr",
     "output_type": "stream",
     "text": [
      "2022-06-10 13:11:46.232374: W tensorflow/core/lib/png/png_io.cc:88] PNG warning: cHRM: invalid chromaticities\n"
     ]
    },
    {
     "name": "stdout",
     "output_type": "stream",
     "text": [
      "1311/1455 [==========================>...] - ETA: 20:36 - loss: 0.2318 - acc: 0.9388"
     ]
    },
    {
     "name": "stderr",
     "output_type": "stream",
     "text": [
      "2022-06-10 14:01:06.370493: W tensorflow/core/lib/png/png_io.cc:88] PNG warning: cHRM: invalid chromaticities\n"
     ]
    },
    {
     "name": "stdout",
     "output_type": "stream",
     "text": [
      "1455/1455 [==============================] - ETA: 0s - loss: 0.2262 - acc: 0.9403"
     ]
    },
    {
     "name": "stderr",
     "output_type": "stream",
     "text": [
      "2022-06-10 14:23:49.770058: I tensorflow/core/kernels/data/shuffle_dataset_op.cc:390] Filling up shuffle buffer (this may take a while): 239 of 400\n",
      "2022-06-10 14:23:52.707471: I tensorflow/core/kernels/data/shuffle_dataset_op.cc:415] Shuffle buffer filled.\n",
      "2022-06-10 14:24:41.110850: W tensorflow/core/lib/png/png_io.cc:88] PNG warning: cHRM: invalid chromaticities\n",
      "2022-06-10 14:30:06.267126: W tensorflow/core/lib/png/png_io.cc:88] PNG warning: cHRM: invalid chromaticities\n",
      "2022-06-10 14:31:57.989964: W tensorflow/core/lib/png/png_io.cc:88] PNG warning: cHRM: invalid chromaticities\n",
      "2022-06-10 14:35:33.124789: W tensorflow/core/lib/png/png_io.cc:88] PNG warning: cHRM: invalid chromaticities\n",
      "2022-06-10 14:41:35.139956: W tensorflow/core/lib/png/png_io.cc:88] PNG warning: cHRM: invalid chromaticities\n",
      "2022-06-10 14:46:49.541905: W tensorflow/core/lib/png/png_io.cc:88] PNG warning: cHRM: invalid chromaticities\n",
      "2022-06-10 14:54:32.379421: W tensorflow/core/lib/png/png_io.cc:88] PNG warning: cHRM: invalid chromaticities\n",
      "2022-06-10 15:41:34.581943: W tensorflow/core/lib/png/png_io.cc:88] PNG warning: cHRM: invalid chromaticities\n",
      "2022-06-10 15:42:02.191032: W tensorflow/core/lib/png/png_io.cc:88] PNG warning: cHRM: invalid chromaticities\n"
     ]
    },
    {
     "name": "stdout",
     "output_type": "stream",
     "text": [
      "Restoring model weights from the end of the best epoch: 2.\n",
      "1455/1455 [==============================] - 18719s 13s/step - loss: 0.2262 - acc: 0.9403 - val_loss: 0.1692 - val_acc: 0.9525\n",
      "Epoch 2: early stopping\n"
     ]
    }
   ],
   "source": [
    "logdir = 'logs'\n",
    "tensorboard_callback = tf.keras.callbacks.TensorBoard(log_dir=logdir)\n",
    "earlystopping = tf.keras.callbacks.EarlyStopping(monitor=\"val_loss\",mode=\"min\",patience=0,restore_best_weights=True,verbose=1)\n",
    "hist = vgg16_final_model.fit(train,epochs=10,validation_data=val,callbacks=[tensorboard_callback,earlystopping])\n",
    "\n"
   ]
  },
  {
   "cell_type": "markdown",
   "metadata": {},
   "source": [
    "Okay, after this, I have decided to start thinking up the other sets of data that I would need"
   ]
  },
  {
   "cell_type": "code",
   "execution_count": 4,
   "metadata": {},
   "outputs": [
    {
     "ename": "NameError",
     "evalue": "name 'plt' is not defined",
     "output_type": "error",
     "traceback": [
      "\u001b[0;31m---------------------------------------------------------------------------\u001b[0m",
      "\u001b[0;31mNameError\u001b[0m                                 Traceback (most recent call last)",
      "\u001b[1;32m/Users/oreadeniyi/Desktop/CircuitsAI/element_detector.ipynb Cell 33'\u001b[0m in \u001b[0;36m<cell line: 1>\u001b[0;34m()\u001b[0m\n\u001b[0;32m----> <a href='vscode-notebook-cell:/Users/oreadeniyi/Desktop/CircuitsAI/element_detector.ipynb#ch0000037?line=0'>1</a>\u001b[0m fig \u001b[39m=\u001b[39m plt\u001b[39m.\u001b[39mfigure()\n\u001b[1;32m      <a href='vscode-notebook-cell:/Users/oreadeniyi/Desktop/CircuitsAI/element_detector.ipynb#ch0000037?line=1'>2</a>\u001b[0m plt\u001b[39m.\u001b[39mplot(hist\u001b[39m.\u001b[39mhistory[\u001b[39m'\u001b[39m\u001b[39mloss\u001b[39m\u001b[39m'\u001b[39m],color\u001b[39m=\u001b[39m\u001b[39m'\u001b[39m\u001b[39mred\u001b[39m\u001b[39m'\u001b[39m,label\u001b[39m=\u001b[39m\u001b[39m'\u001b[39m\u001b[39mloss\u001b[39m\u001b[39m'\u001b[39m)\n\u001b[1;32m      <a href='vscode-notebook-cell:/Users/oreadeniyi/Desktop/CircuitsAI/element_detector.ipynb#ch0000037?line=2'>3</a>\u001b[0m plt\u001b[39m.\u001b[39mplot(hist\u001b[39m.\u001b[39mhistory[\u001b[39m'\u001b[39m\u001b[39mval_loss\u001b[39m\u001b[39m'\u001b[39m],color\u001b[39m=\u001b[39m\u001b[39m'\u001b[39m\u001b[39mblue\u001b[39m\u001b[39m'\u001b[39m,label\u001b[39m=\u001b[39m\u001b[39m'\u001b[39m\u001b[39mval_loss\u001b[39m\u001b[39m'\u001b[39m)\n",
      "\u001b[0;31mNameError\u001b[0m: name 'plt' is not defined"
     ]
    }
   ],
   "source": [
    "fig = plt.figure()\n",
    "plt.plot(hist.history['loss'],color='red',label='loss')\n",
    "plt.plot(hist.history['val_loss'],color='blue',label='val_loss')\n",
    "fig.suptitle('Loss',fontsize=20)\n",
    "plt.legend(loc=\"upper left\")\n",
    "plt.show()"
   ]
  },
  {
   "cell_type": "code",
   "execution_count": 662,
   "metadata": {},
   "outputs": [
    {
     "ename": "KeyError",
     "evalue": "'accuracy'",
     "output_type": "error",
     "traceback": [
      "\u001b[0;31m---------------------------------------------------------------------------\u001b[0m",
      "\u001b[0;31mKeyError\u001b[0m                                  Traceback (most recent call last)",
      "\u001b[1;32m/Users/oreadeniyi/Desktop/CircuitsAI/element_detector.ipynb Cell 39'\u001b[0m in \u001b[0;36m<cell line: 2>\u001b[0;34m()\u001b[0m\n\u001b[1;32m      <a href='vscode-notebook-cell:/Users/oreadeniyi/Desktop/CircuitsAI/element_detector.ipynb#ch0000046?line=0'>1</a>\u001b[0m fig \u001b[39m=\u001b[39m plt\u001b[39m.\u001b[39mfigure()\n\u001b[0;32m----> <a href='vscode-notebook-cell:/Users/oreadeniyi/Desktop/CircuitsAI/element_detector.ipynb#ch0000046?line=1'>2</a>\u001b[0m plt\u001b[39m.\u001b[39mplot(hist\u001b[39m.\u001b[39;49mhistory[\u001b[39m'\u001b[39;49m\u001b[39maccuracy\u001b[39;49m\u001b[39m'\u001b[39;49m],color\u001b[39m=\u001b[39m\u001b[39m'\u001b[39m\u001b[39mred\u001b[39m\u001b[39m'\u001b[39m,label\u001b[39m=\u001b[39m\u001b[39m'\u001b[39m\u001b[39maccuracy\u001b[39m\u001b[39m'\u001b[39m)\n\u001b[1;32m      <a href='vscode-notebook-cell:/Users/oreadeniyi/Desktop/CircuitsAI/element_detector.ipynb#ch0000046?line=3'>4</a>\u001b[0m plt\u001b[39m.\u001b[39mplot(hist\u001b[39m.\u001b[39mhistory[\u001b[39m'\u001b[39m\u001b[39mval_accuracy\u001b[39m\u001b[39m'\u001b[39m],color\u001b[39m=\u001b[39m\u001b[39m'\u001b[39m\u001b[39mblue\u001b[39m\u001b[39m'\u001b[39m,label\u001b[39m=\u001b[39m\u001b[39m'\u001b[39m\u001b[39mval_accuracy\u001b[39m\u001b[39m'\u001b[39m)\n\u001b[1;32m      <a href='vscode-notebook-cell:/Users/oreadeniyi/Desktop/CircuitsAI/element_detector.ipynb#ch0000046?line=4'>5</a>\u001b[0m fig\u001b[39m.\u001b[39msuptitle(\u001b[39m'\u001b[39m\u001b[39mAccuracy\u001b[39m\u001b[39m'\u001b[39m,fontsize\u001b[39m=\u001b[39m\u001b[39m20\u001b[39m)\n",
      "\u001b[0;31mKeyError\u001b[0m: 'accuracy'"
     ]
    },
    {
     "data": {
      "text/plain": [
       "<Figure size 432x288 with 0 Axes>"
      ]
     },
     "metadata": {},
     "output_type": "display_data"
    }
   ],
   "source": [
    "fig = plt.figure()\n",
    "plt.plot(hist.history['accuracy'],color='red',label='accuracy')\n",
    "\n",
    "plt.plot(hist.history['val_accuracy'],color='blue',label='val_accuracy')\n",
    "fig.suptitle('Accuracy',fontsize=20)\n",
    "plt.legend(loc=\"upper left\")\n",
    "plt.show()"
   ]
  },
  {
   "cell_type": "code",
   "execution_count": 299,
   "metadata": {},
   "outputs": [],
   "source": [
    "precision = Precision()\n",
    "recall = Recall()\n",
    "acc = BinaryAccuracy()"
   ]
  },
  {
   "cell_type": "code",
   "execution_count": 67,
   "metadata": {},
   "outputs": [
    {
     "name": "stderr",
     "output_type": "stream",
     "text": [
      "2022-06-02 23:21:58.158644: W tensorflow/core/lib/png/png_io.cc:88] PNG warning: cHRM: invalid chromaticities\n",
      "2022-06-02 23:22:52.231976: W tensorflow/core/lib/png/png_io.cc:88] PNG warning: cHRM: invalid chromaticities\n"
     ]
    },
    {
     "name": "stdout",
     "output_type": "stream",
     "text": [
      "2/2 [==============================] - 11s 4s/step\n",
      "2/2 [==============================] - 10s 4s/step\n",
      "2/2 [==============================] - 10s 4s/step\n",
      "2/2 [==============================] - 11s 4s/step\n",
      "2/2 [==============================] - 10s 3s/step\n",
      "2/2 [==============================] - 9s 3s/step\n",
      "2/2 [==============================] - 10s 4s/step\n",
      "2/2 [==============================] - 10s 3s/step\n",
      "2/2 [==============================] - 10s 4s/step\n",
      "2/2 [==============================] - 10s 4s/step\n",
      "2/2 [==============================] - 10s 4s/step\n",
      "2/2 [==============================] - 10s 4s/step\n",
      "2/2 [==============================] - 10s 4s/step\n",
      "2/2 [==============================] - 9s 3s/step\n",
      "2/2 [==============================] - 10s 4s/step\n",
      "2/2 [==============================] - 10s 4s/step\n",
      "2/2 [==============================] - 10s 4s/step\n",
      "2/2 [==============================] - 10s 4s/step\n",
      "2/2 [==============================] - 10s 4s/step\n",
      "2/2 [==============================] - 11s 4s/step\n",
      "2/2 [==============================] - 11s 4s/step\n",
      "2/2 [==============================] - 10s 4s/step\n",
      "2/2 [==============================] - 10s 4s/step\n",
      "2/2 [==============================] - 11s 4s/step\n",
      "2/2 [==============================] - 11s 4s/step\n",
      "2/2 [==============================] - 10s 4s/step\n",
      "2/2 [==============================] - 10s 4s/step\n",
      "2/2 [==============================] - 10s 4s/step\n",
      "2/2 [==============================] - 10s 4s/step\n",
      "2/2 [==============================] - 10s 4s/step\n",
      "2/2 [==============================] - 11s 4s/step\n",
      "2/2 [==============================] - 11s 4s/step\n",
      "2/2 [==============================] - 10s 4s/step\n",
      "2/2 [==============================] - 10s 4s/step\n",
      "2/2 [==============================] - 10s 4s/step\n",
      "2/2 [==============================] - 10s 4s/step\n",
      "2/2 [==============================] - 11s 4s/step\n",
      "2/2 [==============================] - 10s 4s/step\n",
      "2/2 [==============================] - 10s 4s/step\n",
      "2/2 [==============================] - 10s 4s/step\n",
      "2/2 [==============================] - 11s 4s/step\n",
      "2/2 [==============================] - 11s 4s/step\n",
      "2/2 [==============================] - 10s 4s/step\n",
      "2/2 [==============================] - 12s 4s/step\n",
      "2/2 [==============================] - 11s 4s/step\n",
      "2/2 [==============================] - 10s 4s/step\n",
      "2/2 [==============================] - 9s 3s/step\n",
      "2/2 [==============================] - 8s 3s/step\n",
      "2/2 [==============================] - 8s 3s/step\n",
      "2/2 [==============================] - 8s 3s/step\n",
      "2/2 [==============================] - 8s 3s/step\n",
      "2/2 [==============================] - 8s 3s/step\n",
      "2/2 [==============================] - 8s 3s/step\n",
      "2/2 [==============================] - 8s 3s/step\n",
      "2/2 [==============================] - 8s 3s/step\n",
      "2/2 [==============================] - 8s 3s/step\n",
      "2/2 [==============================] - 8s 3s/step\n",
      "2/2 [==============================] - 8s 3s/step\n",
      "2/2 [==============================] - 8s 3s/step\n",
      "2/2 [==============================] - 8s 3s/step\n",
      "2/2 [==============================] - 8s 3s/step\n",
      "2/2 [==============================] - 8s 3s/step\n",
      "2/2 [==============================] - 8s 3s/step\n",
      "2/2 [==============================] - 8s 3s/step\n",
      "2/2 [==============================] - 8s 3s/step\n",
      "2/2 [==============================] - 8s 3s/step\n",
      "2/2 [==============================] - 8s 3s/step\n",
      "2/2 [==============================] - 8s 3s/step\n",
      "2/2 [==============================] - 8s 3s/step\n",
      "2/2 [==============================] - 8s 3s/step\n",
      "2/2 [==============================] - 8s 3s/step\n",
      "2/2 [==============================] - 8s 3s/step\n",
      "2/2 [==============================] - 8s 3s/step\n",
      "2/2 [==============================] - 8s 3s/step\n",
      "2/2 [==============================] - 8s 3s/step\n",
      "2/2 [==============================] - 8s 3s/step\n",
      "2/2 [==============================] - 8s 3s/step\n",
      "2/2 [==============================] - 8s 3s/step\n",
      "2/2 [==============================] - 8s 3s/step\n",
      "2/2 [==============================] - 8s 3s/step\n",
      "2/2 [==============================] - 23s 12s/step\n",
      "2/2 [==============================] - 8s 3s/step\n",
      "2/2 [==============================] - 8s 3s/step\n",
      "2/2 [==============================] - 8s 3s/step\n",
      "2/2 [==============================] - 1397s 1391s/step\n",
      "2/2 [==============================] - 11s 3s/step\n",
      "2/2 [==============================] - 8s 3s/step\n",
      "2/2 [==============================] - 8s 3s/step\n",
      "2/2 [==============================] - 10s 4s/step\n",
      "2/2 [==============================] - 9s 3s/step\n",
      "2/2 [==============================] - 9s 3s/step\n",
      "2/2 [==============================] - 10s 4s/step\n",
      "2/2 [==============================] - 12s 4s/step\n",
      "2/2 [==============================] - 11s 4s/step\n",
      "2/2 [==============================] - 11s 4s/step\n",
      "2/2 [==============================] - 10s 4s/step\n",
      "2/2 [==============================] - 10s 4s/step\n",
      "2/2 [==============================] - 10s 3s/step\n",
      "2/2 [==============================] - 10s 4s/step\n",
      "2/2 [==============================] - 10s 3s/step\n",
      "2/2 [==============================] - 11s 4s/step\n",
      "2/2 [==============================] - 11s 4s/step\n",
      "2/2 [==============================] - 10s 3s/step\n",
      "2/2 [==============================] - 10s 4s/step\n",
      "2/2 [==============================] - 10s 4s/step\n",
      "2/2 [==============================] - 10s 3s/step\n",
      "2/2 [==============================] - 10s 3s/step\n",
      "2/2 [==============================] - 10s 3s/step\n",
      "2/2 [==============================] - 10s 4s/step\n",
      "2/2 [==============================] - 10s 4s/step\n",
      "2/2 [==============================] - 10s 3s/step\n",
      "2/2 [==============================] - 11s 4s/step\n",
      "2/2 [==============================] - 10s 4s/step\n",
      "2/2 [==============================] - 9s 3s/step\n",
      "2/2 [==============================] - 10s 4s/step\n",
      "2/2 [==============================] - 10s 3s/step\n",
      "2/2 [==============================] - 10s 3s/step\n",
      "2/2 [==============================] - 10s 3s/step\n",
      "2/2 [==============================] - 9s 3s/step\n",
      "2/2 [==============================] - 8s 3s/step\n",
      "2/2 [==============================] - 8s 3s/step\n",
      "2/2 [==============================] - 8s 3s/step\n",
      "2/2 [==============================] - 8s 3s/step\n",
      "2/2 [==============================] - 8s 3s/step\n",
      "2/2 [==============================] - 8s 3s/step\n",
      "2/2 [==============================] - 8s 3s/step\n",
      "2/2 [==============================] - 8s 3s/step\n",
      "2/2 [==============================] - 8s 3s/step\n",
      "2/2 [==============================] - 7s 3s/step\n",
      "2/2 [==============================] - 7s 3s/step\n",
      "2/2 [==============================] - 7s 3s/step\n",
      "2/2 [==============================] - 8s 3s/step\n",
      "2/2 [==============================] - 8s 3s/step\n",
      "2/2 [==============================] - 8s 3s/step\n",
      "2/2 [==============================] - 8s 3s/step\n",
      "2/2 [==============================] - 8s 3s/step\n",
      "2/2 [==============================] - 7s 3s/step\n",
      "2/2 [==============================] - 8s 3s/step\n",
      "2/2 [==============================] - 8s 3s/step\n",
      "2/2 [==============================] - 8s 3s/step\n",
      "2/2 [==============================] - 8s 3s/step\n",
      "2/2 [==============================] - 8s 3s/step\n",
      "2/2 [==============================] - 8s 3s/step\n",
      "2/2 [==============================] - 8s 3s/step\n",
      "2/2 [==============================] - 8s 3s/step\n",
      "2/2 [==============================] - 8s 3s/step\n",
      "2/2 [==============================] - 8s 3s/step\n",
      "2/2 [==============================] - 8s 3s/step\n",
      "2/2 [==============================] - 8s 3s/step\n",
      "2/2 [==============================] - 8s 3s/step\n",
      "2/2 [==============================] - 8s 3s/step\n",
      "2/2 [==============================] - 8s 3s/step\n",
      "2/2 [==============================] - 8s 3s/step\n",
      "2/2 [==============================] - 19s 9s/step\n",
      "2/2 [==============================] - 8s 3s/step\n",
      "2/2 [==============================] - 8s 3s/step\n",
      "2/2 [==============================] - 8s 3s/step\n",
      "2/2 [==============================] - 2145s 2140s/step\n",
      "2/2 [==============================] - 7s 3s/step\n",
      "2/2 [==============================] - 8s 3s/step\n",
      "2/2 [==============================] - 7s 3s/step\n",
      "2/2 [==============================] - 9s 3s/step\n",
      "2/2 [==============================] - 9s 3s/step\n",
      "2/2 [==============================] - 9s 3s/step\n",
      "2/2 [==============================] - 9s 3s/step\n",
      "2/2 [==============================] - 10s 4s/step\n",
      "2/2 [==============================] - 10s 3s/step\n",
      "2/2 [==============================] - 10s 3s/step\n",
      "2/2 [==============================] - 10s 4s/step\n",
      "2/2 [==============================] - 9s 3s/step\n",
      "2/2 [==============================] - 9s 3s/step\n",
      "2/2 [==============================] - 10s 4s/step\n",
      "2/2 [==============================] - 9s 3s/step\n",
      "2/2 [==============================] - 9s 3s/step\n",
      "2/2 [==============================] - 9s 3s/step\n",
      "2/2 [==============================] - 9s 3s/step\n",
      "2/2 [==============================] - 10s 3s/step\n",
      "2/2 [==============================] - 10s 3s/step\n",
      "2/2 [==============================] - 10s 4s/step\n",
      "2/2 [==============================] - 10s 3s/step\n",
      "2/2 [==============================] - 10s 3s/step\n",
      "2/2 [==============================] - 10s 3s/step\n",
      "2/2 [==============================] - 10s 3s/step\n",
      "2/2 [==============================] - 9s 3s/step\n",
      "2/2 [==============================] - 10s 3s/step\n",
      "2/2 [==============================] - 10s 3s/step\n",
      "2/2 [==============================] - 10s 3s/step\n",
      "2/2 [==============================] - 10s 3s/step\n",
      "2/2 [==============================] - 10s 3s/step\n",
      "2/2 [==============================] - 9s 3s/step\n",
      "2/2 [==============================] - 8s 3s/step\n",
      "2/2 [==============================] - 8s 3s/step\n",
      "2/2 [==============================] - 8s 3s/step\n",
      "2/2 [==============================] - 8s 3s/step\n",
      "2/2 [==============================] - 8s 3s/step\n",
      "2/2 [==============================] - 8s 3s/step\n",
      "2/2 [==============================] - 8s 3s/step\n",
      "2/2 [==============================] - 8s 3s/step\n",
      "2/2 [==============================] - 8s 3s/step\n",
      "2/2 [==============================] - 8s 3s/step\n",
      "2/2 [==============================] - 8s 3s/step\n",
      "2/2 [==============================] - 8s 3s/step\n",
      "2/2 [==============================] - 8s 3s/step\n",
      "2/2 [==============================] - 8s 3s/step\n",
      "2/2 [==============================] - 8s 3s/step\n",
      "2/2 [==============================] - 8s 3s/step\n",
      "2/2 [==============================] - 8s 3s/step\n",
      "2/2 [==============================] - 8s 3s/step\n",
      "2/2 [==============================] - 8s 3s/step\n",
      "2/2 [==============================] - 8s 3s/step\n",
      "2/2 [==============================] - 8s 3s/step\n",
      "2/2 [==============================] - 8s 3s/step\n",
      "2/2 [==============================] - 8s 3s/step\n",
      "2/2 [==============================] - 8s 3s/step\n",
      "2/2 [==============================] - 8s 3s/step\n",
      "2/2 [==============================] - 8s 3s/step\n",
      "2/2 [==============================] - 9s 3s/step\n",
      "2/2 [==============================] - 9s 3s/step\n",
      "2/2 [==============================] - 9s 3s/step\n",
      "2/2 [==============================] - 9s 3s/step\n",
      "2/2 [==============================] - 9s 3s/step\n",
      "2/2 [==============================] - 9s 3s/step\n",
      "2/2 [==============================] - 9s 3s/step\n",
      "2/2 [==============================] - 9s 3s/step\n",
      "2/2 [==============================] - 9s 3s/step\n",
      "2/2 [==============================] - 9s 3s/step\n",
      "2/2 [==============================] - 9s 3s/step\n",
      "2/2 [==============================] - 10s 3s/step\n",
      "2/2 [==============================] - 9s 3s/step\n",
      "2/2 [==============================] - 9s 3s/step\n",
      "2/2 [==============================] - 9s 3s/step\n",
      "2/2 [==============================] - 9s 4s/step\n",
      "2/2 [==============================] - 9s 3s/step\n",
      "2/2 [==============================] - 9s 3s/step\n",
      "2/2 [==============================] - 9s 4s/step\n",
      "2/2 [==============================] - 9s 3s/step\n",
      "2/2 [==============================] - 9s 3s/step\n",
      "2/2 [==============================] - 9s 3s/step\n",
      "2/2 [==============================] - 9s 3s/step\n",
      "2/2 [==============================] - 9s 3s/step\n",
      "2/2 [==============================] - 10s 4s/step\n",
      "2/2 [==============================] - 9s 3s/step\n",
      "2/2 [==============================] - 9s 3s/step\n",
      "2/2 [==============================] - 10s 3s/step\n",
      "2/2 [==============================] - 9s 3s/step\n",
      "2/2 [==============================] - 9s 3s/step\n",
      "2/2 [==============================] - 9s 3s/step\n",
      "2/2 [==============================] - 9s 3s/step\n",
      "2/2 [==============================] - 9s 3s/step\n",
      "2/2 [==============================] - 9s 3s/step\n",
      "2/2 [==============================] - 8s 3s/step\n",
      "2/2 [==============================] - 8s 3s/step\n",
      "2/2 [==============================] - 8s 3s/step\n",
      "2/2 [==============================] - 8s 3s/step\n",
      "2/2 [==============================] - 8s 3s/step\n",
      "2/2 [==============================] - 8s 3s/step\n",
      "2/2 [==============================] - 8s 3s/step\n",
      "2/2 [==============================] - 8s 3s/step\n",
      "2/2 [==============================] - 8s 3s/step\n",
      "2/2 [==============================] - 8s 3s/step\n",
      "2/2 [==============================] - 8s 3s/step\n",
      "2/2 [==============================] - 8s 3s/step\n",
      "2/2 [==============================] - 8s 3s/step\n",
      "2/2 [==============================] - 8s 3s/step\n",
      "2/2 [==============================] - 8s 3s/step\n",
      "2/2 [==============================] - 8s 3s/step\n",
      "2/2 [==============================] - 8s 3s/step\n",
      "2/2 [==============================] - 8s 3s/step\n",
      "2/2 [==============================] - 8s 3s/step\n",
      "2/2 [==============================] - 8s 3s/step\n",
      "2/2 [==============================] - 8s 3s/step\n",
      "2/2 [==============================] - 8s 3s/step\n",
      "2/2 [==============================] - 8s 3s/step\n",
      "2/2 [==============================] - 8s 3s/step\n",
      "2/2 [==============================] - 8s 3s/step\n",
      "2/2 [==============================] - 8s 3s/step\n",
      "2/2 [==============================] - 8s 3s/step\n",
      "2/2 [==============================] - 8s 3s/step\n",
      "2/2 [==============================] - 8s 3s/step\n",
      "2/2 [==============================] - 8s 3s/step\n",
      "2/2 [==============================] - 8s 3s/step\n",
      "2/2 [==============================] - 3258s 2s/step\n",
      "2/2 [==============================] - 7s 2s/step\n",
      "2/2 [==============================] - 7s 2s/step\n",
      "2/2 [==============================] - 8s 3s/step\n",
      "2/2 [==============================] - 8s 3s/step\n",
      "2/2 [==============================] - 8s 3s/step\n",
      "2/2 [==============================] - 8s 3s/step\n",
      "2/2 [==============================] - 9s 3s/step\n",
      "2/2 [==============================] - 9s 3s/step\n",
      "2/2 [==============================] - 9s 3s/step\n",
      "2/2 [==============================] - 9s 3s/step\n",
      "2/2 [==============================] - 9s 3s/step\n",
      "2/2 [==============================] - 9s 3s/step\n",
      "2/2 [==============================] - 9s 3s/step\n",
      "2/2 [==============================] - 9s 3s/step\n",
      "2/2 [==============================] - 9s 3s/step\n",
      "2/2 [==============================] - 9s 3s/step\n",
      "2/2 [==============================] - 9s 3s/step\n",
      "2/2 [==============================] - 9s 3s/step\n",
      "2/2 [==============================] - 9s 3s/step\n",
      "2/2 [==============================] - 9s 3s/step\n",
      "2/2 [==============================] - 9s 3s/step\n",
      "2/2 [==============================] - 9s 3s/step\n",
      "2/2 [==============================] - 9s 3s/step\n",
      "2/2 [==============================] - 9s 3s/step\n",
      "2/2 [==============================] - 9s 3s/step\n",
      "2/2 [==============================] - 9s 3s/step\n",
      "2/2 [==============================] - 9s 3s/step\n",
      "2/2 [==============================] - 9s 3s/step\n",
      "2/2 [==============================] - 9s 3s/step\n",
      "2/2 [==============================] - 9s 3s/step\n",
      "2/2 [==============================] - 9s 3s/step\n",
      "2/2 [==============================] - 9s 3s/step\n",
      "2/2 [==============================] - 9s 3s/step\n",
      "2/2 [==============================] - 9s 3s/step\n",
      "2/2 [==============================] - 444s 6s/step\n",
      "2/2 [==============================] - 452s 2s/step\n",
      "2/2 [==============================] - 28s 21s/step\n",
      "2/2 [==============================] - 46s 6s/step\n",
      "2/2 [==============================] - 13s 5s/step\n",
      "2/2 [==============================] - 16s 6s/step\n",
      "2/2 [==============================] - 19s 7s/step\n",
      "2/2 [==============================] - 17s 6s/step\n",
      "2/2 [==============================] - 14s 5s/step\n",
      "2/2 [==============================] - 15s 6s/step\n",
      "2/2 [==============================] - 16s 6s/step\n",
      "2/2 [==============================] - 15s 5s/step\n",
      "2/2 [==============================] - 15s 5s/step\n",
      "2/2 [==============================] - 16s 6s/step\n",
      "2/2 [==============================] - 17s 6s/step\n",
      "2/2 [==============================] - 15s 5s/step\n",
      "2/2 [==============================] - 15s 5s/step\n",
      "2/2 [==============================] - 15s 5s/step\n",
      "2/2 [==============================] - 17s 7s/step\n",
      "2/2 [==============================] - 17s 6s/step\n",
      "2/2 [==============================] - 15s 5s/step\n",
      "2/2 [==============================] - 15s 6s/step\n",
      "2/2 [==============================] - 15s 6s/step\n",
      "2/2 [==============================] - 16s 6s/step\n",
      "2/2 [==============================] - 17s 6s/step\n",
      "2/2 [==============================] - 15s 6s/step\n",
      "2/2 [==============================] - 15s 6s/step\n",
      "2/2 [==============================] - 15s 5s/step\n",
      "2/2 [==============================] - 16s 6s/step\n",
      "2/2 [==============================] - 16s 5s/step\n",
      "2/2 [==============================] - 15s 5s/step\n",
      "2/2 [==============================] - 15s 5s/step\n",
      "2/2 [==============================] - 15s 5s/step\n",
      "2/2 [==============================] - 16s 6s/step\n",
      "2/2 [==============================] - 16s 6s/step\n",
      "2/2 [==============================] - 16s 5s/step\n",
      "2/2 [==============================] - 16s 6s/step\n",
      "2/2 [==============================] - 16s 5s/step\n",
      "2/2 [==============================] - 15s 5s/step\n",
      "2/2 [==============================] - 15s 5s/step\n",
      "2/2 [==============================] - 15s 5s/step\n",
      "2/2 [==============================] - 16s 6s/step\n",
      "2/2 [==============================] - 16s 5s/step\n",
      "2/2 [==============================] - 15s 5s/step\n",
      "2/2 [==============================] - 15s 5s/step\n",
      "2/2 [==============================] - 15s 5s/step\n",
      "2/2 [==============================] - 15s 6s/step\n",
      "2/2 [==============================] - 16s 6s/step\n",
      "2/2 [==============================] - 15s 5s/step\n",
      "2/2 [==============================] - 15s 5s/step\n",
      "2/2 [==============================] - 16s 6s/step\n",
      "2/2 [==============================] - 22s 7s/step\n",
      "2/2 [==============================] - 20s 7s/step\n",
      "2/2 [==============================] - 22s 7s/step\n",
      "2/2 [==============================] - 20s 7s/step\n",
      "2/2 [==============================] - 22s 7s/step\n",
      "2/2 [==============================] - 20s 7s/step\n",
      "2/2 [==============================] - 20s 7s/step\n",
      "2/2 [==============================] - 20s 7s/step\n",
      "2/2 [==============================] - 20s 7s/step\n",
      "2/2 [==============================] - 20s 7s/step\n",
      "2/2 [==============================] - 21s 9s/step\n",
      "2/2 [==============================] - 20s 7s/step\n",
      "2/2 [==============================] - 20s 7s/step\n",
      "2/2 [==============================] - 21s 7s/step\n",
      "2/2 [==============================] - 20s 7s/step\n",
      "2/2 [==============================] - 20s 7s/step\n",
      "2/2 [==============================] - 20s 7s/step\n",
      "2/2 [==============================] - 22s 7s/step\n",
      "2/2 [==============================] - 20s 7s/step\n",
      "2/2 [==============================] - 20s 7s/step\n",
      "2/2 [==============================] - 22s 9s/step\n",
      "2/2 [==============================] - 20s 7s/step\n",
      "2/2 [==============================] - 22s 7s/step\n",
      "2/2 [==============================] - 22s 9s/step\n",
      "2/2 [==============================] - 20s 7s/step\n",
      "2/2 [==============================] - 22s 7s/step\n",
      "2/2 [==============================] - 21s 7s/step\n",
      "2/2 [==============================] - 20s 7s/step\n",
      "2/2 [==============================] - 21s 7s/step\n",
      "2/2 [==============================] - 22s 9s/step\n",
      "2/2 [==============================] - 20s 7s/step\n",
      "2/2 [==============================] - 22s 7s/step\n",
      "2/2 [==============================] - 22s 7s/step\n",
      "2/2 [==============================] - 22s 7s/step\n",
      "2/2 [==============================] - 22s 7s/step\n",
      "2/2 [==============================] - 22s 7s/step\n",
      "2/2 [==============================] - 24s 9s/step\n",
      "2/2 [==============================] - 22s 9s/step\n",
      "2/2 [==============================] - 22s 9s/step\n",
      "2/2 [==============================] - 22s 7s/step\n",
      "2/2 [==============================] - 22s 7s/step\n",
      "2/2 [==============================] - 24s 9s/step\n",
      "2/2 [==============================] - 22s 7s/step\n",
      "2/2 [==============================] - 23s 8s/step\n",
      "2/2 [==============================] - 22s 8s/step\n",
      "2/2 [==============================] - 24s 9s/step\n",
      "2/2 [==============================] - 22s 9s/step\n",
      "2/2 [==============================] - 22s 7s/step\n",
      "2/2 [==============================] - 24s 7s/step\n",
      "2/2 [==============================] - 3614s 3s/step\n",
      "2/2 [==============================] - 7s 2s/step\n",
      "2/2 [==============================] - 7s 3s/step\n",
      "2/2 [==============================] - 7s 3s/step\n",
      "2/2 [==============================] - 8s 3s/step\n",
      "2/2 [==============================] - 8s 3s/step\n",
      "2/2 [==============================] - 9s 3s/step\n",
      "2/2 [==============================] - 8s 3s/step\n",
      "2/2 [==============================] - 8s 3s/step\n",
      "2/2 [==============================] - 8s 3s/step\n",
      "2/2 [==============================] - 8s 3s/step\n",
      "2/2 [==============================] - 8s 3s/step\n",
      "2/2 [==============================] - 8s 3s/step\n",
      "2/2 [==============================] - 8s 3s/step\n",
      "2/2 [==============================] - 8s 3s/step\n",
      "2/2 [==============================] - 8s 3s/step\n",
      "2/2 [==============================] - 8s 3s/step\n",
      "2/2 [==============================] - 8s 3s/step\n",
      "2/2 [==============================] - 8s 3s/step\n",
      "2/2 [==============================] - 8s 3s/step\n",
      "2/2 [==============================] - 8s 3s/step\n",
      "2/2 [==============================] - 8s 3s/step\n",
      "2/2 [==============================] - 8s 3s/step\n",
      "2/2 [==============================] - 8s 3s/step\n",
      "2/2 [==============================] - 8s 3s/step\n",
      "2/2 [==============================] - 8s 3s/step\n",
      "2/2 [==============================] - 8s 3s/step\n",
      "2/2 [==============================] - 9s 3s/step\n",
      "2/2 [==============================] - 8s 3s/step\n",
      "2/2 [==============================] - 8s 3s/step\n",
      "2/2 [==============================] - 8s 3s/step\n",
      "2/2 [==============================] - 9s 3s/step\n",
      "2/2 [==============================] - 9s 3s/step\n",
      "2/2 [==============================] - 9s 3s/step\n",
      "2/2 [==============================] - 9s 3s/step\n",
      "2/2 [==============================] - 9s 3s/step\n",
      "2/2 [==============================] - 9s 3s/step\n",
      "2/2 [==============================] - 3606s 2s/step\n",
      "2/2 [==============================] - 7s 2s/step\n",
      "2/2 [==============================] - 6s 2s/step\n",
      "2/2 [==============================] - 7s 2s/step\n",
      "2/2 [==============================] - 7s 3s/step\n",
      "2/2 [==============================] - 7s 3s/step\n",
      "2/2 [==============================] - 7s 3s/step\n",
      "2/2 [==============================] - 7s 3s/step\n",
      "2/2 [==============================] - 7s 3s/step\n",
      "2/2 [==============================] - 7s 3s/step\n",
      "2/2 [==============================] - 7s 3s/step\n",
      "2/2 [==============================] - 7s 3s/step\n",
      "2/2 [==============================] - 7s 3s/step\n",
      "2/2 [==============================] - 7s 3s/step\n",
      "2/2 [==============================] - 7s 3s/step\n",
      "2/2 [==============================] - 7s 3s/step\n",
      "2/2 [==============================] - 7s 3s/step\n",
      "2/2 [==============================] - 7s 3s/step\n",
      "2/2 [==============================] - 7s 3s/step\n",
      "2/2 [==============================] - 7s 3s/step\n",
      "2/2 [==============================] - 7s 3s/step\n",
      "2/2 [==============================] - 7s 3s/step\n",
      "2/2 [==============================] - 7s 3s/step\n",
      "2/2 [==============================] - 7s 3s/step\n",
      "2/2 [==============================] - 7s 3s/step\n",
      "2/2 [==============================] - 7s 3s/step\n",
      "1/1 [==============================] - 4s 4s/step\n"
     ]
    }
   ],
   "source": [
    "for batch in test.as_numpy_iterator():\n",
    "    X, y = batch\n",
    "\n",
    "    yhat = np.argmax(vgg16_final_model.predict(np.array(X)))\n",
    "   \n",
    "\n",
    " "
   ]
  },
  {
   "cell_type": "code",
   "execution_count": 10,
   "metadata": {},
   "outputs": [],
   "source": [
    "from sklearn.metrics import confusion_matrix\n",
    "from sklearn.metrics import accuracy_score\n",
    "from sklearn.metrics import precision_score\n",
    "from sklearn.metrics import recall_score\n",
    "from sklearn.metrics import f1_score\n"
   ]
  },
  {
   "cell_type": "code",
   "execution_count": null,
   "metadata": {},
   "outputs": [],
   "source": [
    "c_m = confusion_matrix(y,yhat) #c_m stands for confusion matrix\n",
    "\n",
    "print(c_m)\n",
    "sns.heatmap(c_m,cmap = \"Reds\",annot = True,cbar_kws={\"orientation\":\"vertical\",\"label\":\"color bar \"},xticklabels=[0,1],yticklabels=[0,1],fmt ='g')\n",
    "plt.xlabel(\"Predicted\")\n",
    "plt.ylabel(\"Actual\")\n",
    "plt.show()"
   ]
  },
  {
   "cell_type": "code",
   "execution_count": 61,
   "metadata": {},
   "outputs": [
    {
     "name": "stdout",
     "output_type": "stream",
     "text": [
      "0.0 0.0 0.0\n"
     ]
    }
   ],
   "source": [
    "print(precision.result().numpy(), recall.result().numpy(), acc.result().numpy())"
   ]
  },
  {
   "cell_type": "code",
   "execution_count": 7,
   "metadata": {},
   "outputs": [],
   "source": [
    "import cv2"
   ]
  },
  {
   "cell_type": "markdown",
   "metadata": {},
   "source": [
    "## Saving the model ##"
   ]
  },
  {
   "cell_type": "code",
   "execution_count": 8,
   "metadata": {},
   "outputs": [],
   "source": [
    "from tensorflow.keras.models import load_model\n",
    "#vgg16_final_model.save(os.path.join('models','multiimageclassifier3.h5'))\n",
    "\n",
    "\n",
    "\n",
    "\n"
   ]
  },
  {
   "cell_type": "code",
   "execution_count": 9,
   "metadata": {},
   "outputs": [
    {
     "name": "stderr",
     "output_type": "stream",
     "text": [
      "2022-06-15 21:14:23.185014: I tensorflow/core/platform/cpu_feature_guard.cc:193] This TensorFlow binary is optimized with oneAPI Deep Neural Network Library (oneDNN) to use the following CPU instructions in performance-critical operations:  AVX2 FMA\n",
      "To enable them in other operations, rebuild TensorFlow with the appropriate compiler flags.\n"
     ]
    }
   ],
   "source": [
    "new_model = load_model('models/multiimageclassifier2.h5')\n",
    "model2 = load_model('models/multiimageclassifier.h5')\n",
    "final_model = load_model('models/multiimageclassifier3.h5')\n"
   ]
  },
  {
   "cell_type": "code",
   "execution_count": 386,
   "metadata": {},
   "outputs": [
    {
     "name": "stdout",
     "output_type": "stream",
     "text": [
      "1/1 [==============================] - 0s 391ms/step\n"
     ]
    },
    {
     "data": {
      "text/plain": [
       "array([[2.1501009e-03, 4.1288708e-06, 3.3259806e-03, 4.0520267e-03,\n",
       "        9.7333860e-01, 8.7285629e-03, 2.9677789e-05, 7.1067450e-04,\n",
       "        4.6828398e-05, 7.5968797e-03, 1.6506601e-05, 1.1020931e-09]],\n",
       "      dtype=float32)"
      ]
     },
     "execution_count": 386,
     "metadata": {},
     "output_type": "execute_result"
    }
   ],
   "source": [
    "new_model.predict(np.expand_dims(resize/255, 0))"
   ]
  },
  {
   "cell_type": "code",
   "execution_count": 10,
   "metadata": {},
   "outputs": [
    {
     "data": {
      "image/png": "[encoded data removed]",
      "text/plain": [
       "<Figure size 432x288 with 1 Axes>"
      ]
     },
     "metadata": {
      "needs_background": "light"
     },
     "output_type": "display_data"
    },
    {
     "name": "stdout",
     "output_type": "stream",
     "text": [
      "1/1 [==============================] - 1s 947ms/step\n",
      "1/1 [==============================] - 1s 629ms/step\n",
      "1/1 [==============================] - 1s 639ms/step\n",
      "1/1 [==============================] - 0s 258ms/step\n",
      "1/1 [==============================] - 0s 243ms/step\n",
      "Voltage Source\n"
     ]
    }
   ],
   "source": [
    "img = cv2.imread('vs55.png')\n",
    "resize = tf.image.resize(img, (256,256))\n",
    "plt.imshow(resize.numpy().astype(int))\n",
    "plt.show()\n",
    "\n",
    "image_class =np.argmax(new_model.predict(np.expand_dims(resize/255, 0)))\n",
    "image_class2 =np.argmax(model2.predict(np.expand_dims(resize/255, 0)))\n",
    "image_class_final =np.argmax(final_model.predict(np.expand_dims(resize/255, 0)))\n",
    "\n",
    "added_image_class =np.argmax(0.4*(model2.predict(np.expand_dims(resize/255, 0)))+(0.6*new_model.predict(np.expand_dims(resize/255, 0))))\n",
    "\n",
    "\n",
    "\n",
    "def numbers_to_label(argument):\n",
    "    \n",
    "    switcher = {\n",
    "        0: \"Capacitor\",\n",
    "        1: \"Inductor\",\n",
    "        2: \"Resistor\",\n",
    "        3: \"BJT\",\n",
    "        4: \"Diode\",\n",
    "        5: \"Dependent Current Source\",\n",
    "        6: \"Dependent Voltage Source\",\n",
    "        7: \"Ground\",\n",
    "        8: \"Current Source\",\n",
    "        9: \"MOSFET\",\n",
    "        10: \"OP-AMP\",\n",
    "        11: \"Voltage Source\"\n",
    "\n",
    "    }\n",
    "      # get() method of dictionary data type returns\n",
    "    # value of passed argument if it is present\n",
    "    # in dictionary otherwise second argument will\n",
    "    # be assigned as default value of passed argument\n",
    "    return switcher.get(argument, \"nothing\")\n",
    "\n",
    "#print(numbers_to_label(image_class))\n",
    "#print(numbers_to_label(image_class2))\n",
    "print(numbers_to_label(image_class_final))\n",
    "\n",
    "\n"
   ]
  }
 ],
 "metadata": {
  "interpreter": {
   "hash": "f49fda3d7742ca9a513f85fd6933c9024143ba9fd5436d981d997fec91c7b199"
  },
  "kernelspec": {
   "display_name": "Python 3.8.6 ('project_env': venv)",
   "language": "python",
   "name": "python3"
  },
  "language_info": {
   "codemirror_mode": {
    "name": "ipython",
    "version": 3
   },
   "file_extension": ".py",
   "mimetype": "text/x-python",
   "name": "python",
   "nbconvert_exporter": "python",
   "pygments_lexer": "ipython3",
   "version": "3.8.6"
  },
  "orig_nbformat": 4
 },
 "nbformat": 4,
 "nbformat_minor": 2
}
