{
 "cells": [
  {
   "cell_type": "markdown",
   "metadata": {},
   "source": [
    "## Electrical Element Detector ##"
   ]
  },
  {
   "cell_type": "markdown",
   "metadata": {},
   "source": [
    "First, I want to make using tensorflow an image classifier that seperates different electrical elements. After that, I plan to use the model in different applications. \n",
    "So, let's begin\n"
   ]
  },
  {
   "cell_type": "markdown",
   "metadata": {},
   "source": [
    "So first, I will install my libraries that I will be using. It is important to note that I am using a virtual environment as I am using several versions of Python on my laptop and I will find it easy to depict with certainty the python and pip I am using with a virtual environment\n"
   ]
  },
  {
   "cell_type": "code",
   "execution_count": 264,
   "metadata": {},
   "outputs": [
    {
     "name": "stdout",
     "output_type": "stream",
     "text": [
      "Requirement already satisfied: opencv-python in ./project_env/lib/python3.8/site-packages (4.5.5.64)\n",
      "Requirement already satisfied: tensorflow in ./project_env/lib/python3.8/site-packages (2.9.1)\n",
      "Requirement already satisfied: matplotlib in ./project_env/lib/python3.8/site-packages (3.5.2)\n",
      "Requirement already satisfied: numpy>=1.14.5 in ./project_env/lib/python3.8/site-packages (from opencv-python) (1.22.4)\n",
      "Requirement already satisfied: libclang>=13.0.0 in ./project_env/lib/python3.8/site-packages (from tensorflow) (14.0.1)\n",
      "Requirement already satisfied: wrapt>=1.11.0 in ./project_env/lib/python3.8/site-packages (from tensorflow) (1.14.1)\n",
      "Requirement already satisfied: h5py>=2.9.0 in ./project_env/lib/python3.8/site-packages (from tensorflow) (3.7.0)\n",
      "Requirement already satisfied: protobuf<3.20,>=3.9.2 in ./project_env/lib/python3.8/site-packages (from tensorflow) (3.19.4)\n",
      "Requirement already satisfied: gast<=0.4.0,>=0.2.1 in ./project_env/lib/python3.8/site-packages (from tensorflow) (0.4.0)\n",
      "Requirement already satisfied: grpcio<2.0,>=1.24.3 in ./project_env/lib/python3.8/site-packages (from tensorflow) (1.46.3)\n",
      "Requirement already satisfied: termcolor>=1.1.0 in ./project_env/lib/python3.8/site-packages (from tensorflow) (1.1.0)\n",
      "Requirement already satisfied: tensorboard<2.10,>=2.9 in ./project_env/lib/python3.8/site-packages (from tensorflow) (2.9.0)\n",
      "Requirement already satisfied: typing-extensions>=3.6.6 in ./project_env/lib/python3.8/site-packages (from tensorflow) (4.2.0)\n",
      "Requirement already satisfied: opt-einsum>=2.3.2 in ./project_env/lib/python3.8/site-packages (from tensorflow) (3.3.0)\n",
      "Requirement already satisfied: keras<2.10.0,>=2.9.0rc0 in ./project_env/lib/python3.8/site-packages (from tensorflow) (2.9.0)\n",
      "Requirement already satisfied: flatbuffers<2,>=1.12 in ./project_env/lib/python3.8/site-packages (from tensorflow) (1.12)\n",
      "Requirement already satisfied: google-pasta>=0.1.1 in ./project_env/lib/python3.8/site-packages (from tensorflow) (0.2.0)\n",
      "Requirement already satisfied: keras-preprocessing>=1.1.1 in ./project_env/lib/python3.8/site-packages (from tensorflow) (1.1.2)\n",
      "Requirement already satisfied: absl-py>=1.0.0 in ./project_env/lib/python3.8/site-packages (from tensorflow) (1.0.0)\n",
      "Requirement already satisfied: tensorflow-estimator<2.10.0,>=2.9.0rc0 in ./project_env/lib/python3.8/site-packages (from tensorflow) (2.9.0)\n",
      "Requirement already satisfied: packaging in ./project_env/lib/python3.8/site-packages (from tensorflow) (21.3)\n",
      "Requirement already satisfied: setuptools in ./project_env/lib/python3.8/site-packages (from tensorflow) (49.2.1)\n",
      "Requirement already satisfied: six>=1.12.0 in ./project_env/lib/python3.8/site-packages (from tensorflow) (1.16.0)\n",
      "Requirement already satisfied: tensorflow-io-gcs-filesystem>=0.23.1 in ./project_env/lib/python3.8/site-packages (from tensorflow) (0.26.0)\n",
      "Requirement already satisfied: astunparse>=1.6.0 in ./project_env/lib/python3.8/site-packages (from tensorflow) (1.6.3)\n",
      "Requirement already satisfied: pyparsing>=2.2.1 in ./project_env/lib/python3.8/site-packages (from matplotlib) (3.0.9)\n",
      "Requirement already satisfied: kiwisolver>=1.0.1 in ./project_env/lib/python3.8/site-packages (from matplotlib) (1.4.2)\n",
      "Requirement already satisfied: fonttools>=4.22.0 in ./project_env/lib/python3.8/site-packages (from matplotlib) (4.33.3)\n",
      "Requirement already satisfied: cycler>=0.10 in ./project_env/lib/python3.8/site-packages (from matplotlib) (0.11.0)\n",
      "Requirement already satisfied: pillow>=6.2.0 in ./project_env/lib/python3.8/site-packages (from matplotlib) (9.1.1)\n",
      "Requirement already satisfied: python-dateutil>=2.7 in ./project_env/lib/python3.8/site-packages (from matplotlib) (2.8.2)\n",
      "Requirement already satisfied: wheel<1.0,>=0.23.0 in ./project_env/lib/python3.8/site-packages (from astunparse>=1.6.0->tensorflow) (0.37.1)\n",
      "Requirement already satisfied: tensorboard-data-server<0.7.0,>=0.6.0 in ./project_env/lib/python3.8/site-packages (from tensorboard<2.10,>=2.9->tensorflow) (0.6.1)\n",
      "Requirement already satisfied: werkzeug>=1.0.1 in ./project_env/lib/python3.8/site-packages (from tensorboard<2.10,>=2.9->tensorflow) (2.1.2)\n",
      "Requirement already satisfied: tensorboard-plugin-wit>=1.6.0 in ./project_env/lib/python3.8/site-packages (from tensorboard<2.10,>=2.9->tensorflow) (1.8.1)\n",
      "Requirement already satisfied: google-auth-oauthlib<0.5,>=0.4.1 in ./project_env/lib/python3.8/site-packages (from tensorboard<2.10,>=2.9->tensorflow) (0.4.6)\n",
      "Requirement already satisfied: google-auth<3,>=1.6.3 in ./project_env/lib/python3.8/site-packages (from tensorboard<2.10,>=2.9->tensorflow) (2.6.6)\n",
      "Requirement already satisfied: markdown>=2.6.8 in ./project_env/lib/python3.8/site-packages (from tensorboard<2.10,>=2.9->tensorflow) (3.3.7)\n",
      "Requirement already satisfied: requests<3,>=2.21.0 in ./project_env/lib/python3.8/site-packages (from tensorboard<2.10,>=2.9->tensorflow) (2.27.1)\n",
      "Requirement already satisfied: pyasn1-modules>=0.2.1 in ./project_env/lib/python3.8/site-packages (from google-auth<3,>=1.6.3->tensorboard<2.10,>=2.9->tensorflow) (0.2.8)\n",
      "Requirement already satisfied: cachetools<6.0,>=2.0.0 in ./project_env/lib/python3.8/site-packages (from google-auth<3,>=1.6.3->tensorboard<2.10,>=2.9->tensorflow) (5.1.0)\n",
      "Requirement already satisfied: rsa<5,>=3.1.4 in ./project_env/lib/python3.8/site-packages (from google-auth<3,>=1.6.3->tensorboard<2.10,>=2.9->tensorflow) (4.8)\n",
      "Requirement already satisfied: requests-oauthlib>=0.7.0 in ./project_env/lib/python3.8/site-packages (from google-auth-oauthlib<0.5,>=0.4.1->tensorboard<2.10,>=2.9->tensorflow) (1.3.1)\n",
      "Requirement already satisfied: importlib-metadata>=4.4 in ./project_env/lib/python3.8/site-packages (from markdown>=2.6.8->tensorboard<2.10,>=2.9->tensorflow) (4.11.4)\n",
      "Requirement already satisfied: certifi>=2017.4.17 in ./project_env/lib/python3.8/site-packages (from requests<3,>=2.21.0->tensorboard<2.10,>=2.9->tensorflow) (2022.5.18.1)\n",
      "Requirement already satisfied: charset-normalizer~=2.0.0 in ./project_env/lib/python3.8/site-packages (from requests<3,>=2.21.0->tensorboard<2.10,>=2.9->tensorflow) (2.0.12)\n",
      "Requirement already satisfied: urllib3<1.27,>=1.21.1 in ./project_env/lib/python3.8/site-packages (from requests<3,>=2.21.0->tensorboard<2.10,>=2.9->tensorflow) (1.26.9)\n",
      "Requirement already satisfied: idna<4,>=2.5 in ./project_env/lib/python3.8/site-packages (from requests<3,>=2.21.0->tensorboard<2.10,>=2.9->tensorflow) (3.3)\n",
      "Requirement already satisfied: zipp>=0.5 in ./project_env/lib/python3.8/site-packages (from importlib-metadata>=4.4->markdown>=2.6.8->tensorboard<2.10,>=2.9->tensorflow) (3.8.0)\n",
      "Requirement already satisfied: pyasn1<0.5.0,>=0.4.6 in ./project_env/lib/python3.8/site-packages (from pyasn1-modules>=0.2.1->google-auth<3,>=1.6.3->tensorboard<2.10,>=2.9->tensorflow) (0.4.8)\n",
      "Requirement already satisfied: oauthlib>=3.0.0 in ./project_env/lib/python3.8/site-packages (from requests-oauthlib>=0.7.0->google-auth-oauthlib<0.5,>=0.4.1->tensorboard<2.10,>=2.9->tensorflow) (3.2.0)\n"
     ]
    }
   ],
   "source": [
    "!pip install opencv-python tensorflow matplotlib"
   ]
  },
  {
   "cell_type": "code",
   "execution_count": 265,
   "metadata": {},
   "outputs": [
    {
     "name": "stdout",
     "output_type": "stream",
     "text": [
      "Requirement already satisfied: pip in ./project_env/lib/python3.8/site-packages (22.1.2)\n"
     ]
    }
   ],
   "source": [
    "!pip install --upgrade pip"
   ]
  },
  {
   "cell_type": "code",
   "execution_count": 267,
   "metadata": {},
   "outputs": [],
   "source": [
    "import tensorflow as tf\n",
    "import os\n",
    "import numpy as np\n",
    "from matplotlib import pyplot as plt\n",
    "from tensorflow.keras.models  import Sequential\n",
    "from tensorflow.keras.layers import Conv2D, MaxPooling2D,Dense,Flatten,Dropout\n",
    "from tensorflow.keras.metrics import Precision, Recall, BinaryAccuracy\n",
    "import cv2\n",
    "import Augmentor as aug\n"
   ]
  },
  {
   "cell_type": "markdown",
   "metadata": {},
   "source": [
    "elements = [Resistor,Voltage Source,Current Source,Inductor, Capacitor,Dependent Voltage Source,Dependent Current Source,Ground,Operational Amplifiers,Diode, Bipolar Junction Transistor,Field Effect Transistor]"
   ]
  },
  {
   "cell_type": "code",
   "execution_count": 268,
   "metadata": {},
   "outputs": [],
   "source": [
    "elements = ['R','vs','is','L','C','dvs','dis','gnd','opamp','diode','bjt','mosfet']"
   ]
  },
  {
   "cell_type": "code",
   "execution_count": 269,
   "metadata": {},
   "outputs": [
    {
     "data": {
      "text/plain": [
       "'data/vs'"
      ]
     },
     "execution_count": 269,
     "metadata": {},
     "output_type": "execute_result"
    }
   ],
   "source": [
    "os.path.join('data','R')\n",
    "os.path.join('data','vs')\n"
   ]
  },
  {
   "cell_type": "code",
   "execution_count": 270,
   "metadata": {},
   "outputs": [],
   "source": [
    "for element in elements: \n",
    "    directory = os.path.join('data',element)\n",
    "    if not os.path.exists(directory):\n",
    "        os.mkdir(directory)\n"
   ]
  },
  {
   "cell_type": "markdown",
   "metadata": {},
   "source": [
    "First, my thinking here is to augment the data by performing some rotations and also to add more symbols. \n"
   ]
  },
  {
   "cell_type": "code",
   "execution_count": 271,
   "metadata": {},
   "outputs": [
    {
     "name": "stdout",
     "output_type": "stream",
     "text": [
      "Requirement already satisfied: augmentor in ./project_env/lib/python3.8/site-packages (0.2.10)\n",
      "Requirement already satisfied: tqdm>=4.9.0 in ./project_env/lib/python3.8/site-packages (from augmentor) (4.64.0)\n",
      "Requirement already satisfied: future>=0.16.0 in ./project_env/lib/python3.8/site-packages (from augmentor) (0.18.2)\n",
      "Requirement already satisfied: numpy>=1.11.0 in ./project_env/lib/python3.8/site-packages (from augmentor) (1.22.4)\n",
      "Requirement already satisfied: Pillow>=5.2.0 in ./project_env/lib/python3.8/site-packages (from augmentor) (9.1.1)\n"
     ]
    }
   ],
   "source": [
    "!pip install augmentor"
   ]
  },
  {
   "cell_type": "code",
   "execution_count": 272,
   "metadata": {},
   "outputs": [],
   "source": [
    "import Augmentor as aug"
   ]
  },
  {
   "cell_type": "code",
   "execution_count": 273,
   "metadata": {},
   "outputs": [
    {
     "name": "stdout",
     "output_type": "stream",
     "text": [
      "\u001b[0;31mType:\u001b[0m        module\n",
      "\u001b[0;31mString form:\u001b[0m <module 'Augmentor' from '/Users/oreadeniyi/Desktop/CircuitsAI/project_env/lib/python3.8/site-packages/Augmentor/__init__.py'>\n",
      "\u001b[0;31mFile:\u001b[0m        ~/Desktop/CircuitsAI/project_env/lib/python3.8/site-packages/Augmentor/__init__.py\n",
      "\u001b[0;31mSource:\u001b[0m     \n",
      "\u001b[0;34m\"\"\"\u001b[0m\n",
      "\u001b[0;34mThe Augmentor image augmentation library.\u001b[0m\n",
      "\u001b[0;34m\u001b[0m\n",
      "\u001b[0;34mAugmentor is a software package for augmenting image data. It provides a number of utilities that aid augmentation \\\u001b[0m\n",
      "\u001b[0;34min a automated manner. The aim of the package is to make augmentation for machine learning tasks less prone to \\\u001b[0m\n",
      "\u001b[0;34merror, more reproducible, more efficient, and easier to perform.\u001b[0m\n",
      "\u001b[0;34m\u001b[0m\n",
      "\u001b[0;34m.. moduleauthor:: Marcus D. Bloice <marcus.bloice@medunigraz.at>\u001b[0m\n",
      "\u001b[0;34m   :platform: Windows, Linux, Macintosh\u001b[0m\n",
      "\u001b[0;34m   :synopsis: An image augmentation library for Machine Learning.\u001b[0m\n",
      "\u001b[0;34m\u001b[0m\n",
      "\u001b[0;34m\"\"\"\u001b[0m\u001b[0;34m\u001b[0m\n",
      "\u001b[0;34m\u001b[0m\u001b[0;34m\u001b[0m\n",
      "\u001b[0;34m\u001b[0m\u001b[0;32mfrom\u001b[0m \u001b[0;34m.\u001b[0m\u001b[0mPipeline\u001b[0m \u001b[0;32mimport\u001b[0m \u001b[0mPipeline\u001b[0m\u001b[0;34m,\u001b[0m \u001b[0mDataFramePipeline\u001b[0m\u001b[0;34m,\u001b[0m \u001b[0mDataPipeline\u001b[0m\u001b[0;34m\u001b[0m\n",
      "\u001b[0;34m\u001b[0m\u001b[0;34m\u001b[0m\n",
      "\u001b[0;34m\u001b[0m\u001b[0m__author__\u001b[0m \u001b[0;34m=\u001b[0m \u001b[0;34m\"\"\"Marcus D. Bloice\"\"\"\u001b[0m\u001b[0;34m\u001b[0m\n",
      "\u001b[0;34m\u001b[0m\u001b[0m__email__\u001b[0m \u001b[0;34m=\u001b[0m \u001b[0;34m'marcus.bloice@medunigraz.at'\u001b[0m\u001b[0;34m\u001b[0m\n",
      "\u001b[0;34m\u001b[0m\u001b[0m__version__\u001b[0m \u001b[0;34m=\u001b[0m \u001b[0;34m'0.2.10'\u001b[0m\u001b[0;34m\u001b[0m\n",
      "\u001b[0;34m\u001b[0m\u001b[0;34m\u001b[0m\n",
      "\u001b[0;34m\u001b[0m\u001b[0m__all__\u001b[0m \u001b[0;34m=\u001b[0m \u001b[0;34m[\u001b[0m\u001b[0;34m'Pipeline'\u001b[0m\u001b[0;34m,\u001b[0m \u001b[0;34m'DataFramePipeline'\u001b[0m\u001b[0;34m,\u001b[0m \u001b[0;34m'DataPipeline'\u001b[0m\u001b[0;34m]\u001b[0m\u001b[0;34m\u001b[0m\u001b[0;34m\u001b[0m\u001b[0m\n"
     ]
    }
   ],
   "source": [
    "aug??\n"
   ]
  },
  {
   "cell_type": "markdown",
   "metadata": {},
   "source": [
    "Declare an augmentation pipeline"
   ]
  },
  {
   "cell_type": "code",
   "execution_count": null,
   "metadata": {},
   "outputs": [
    {
     "name": "stdout",
     "output_type": "stream",
     "text": [
      "mkdir: aug_data: File exists\n"
     ]
    }
   ],
   "source": [
    "!mkdir aug_data"
   ]
  },
  {
   "cell_type": "code",
   "execution_count": 274,
   "metadata": {},
   "outputs": [
    {
     "name": "stdout",
     "output_type": "stream",
     "text": [
      "Initialised with 10 image(s) found.\n",
      "Output directory set to data/R/output."
     ]
    }
   ],
   "source": [
    "image_pipeline = aug.Pipeline(\"data/R\")"
   ]
  },
  {
   "cell_type": "code",
   "execution_count": null,
   "metadata": {},
   "outputs": [
    {
     "name": "stdout",
     "output_type": "stream",
     "text": [
      "\u001b[0;31mSignature:\u001b[0m \u001b[0mimage_pipeline\u001b[0m\u001b[0;34m.\u001b[0m\u001b[0mrandom_color\u001b[0m\u001b[0;34m(\u001b[0m\u001b[0mprobability\u001b[0m\u001b[0;34m,\u001b[0m \u001b[0mmin_factor\u001b[0m\u001b[0;34m,\u001b[0m \u001b[0mmax_factor\u001b[0m\u001b[0;34m)\u001b[0m\u001b[0;34m\u001b[0m\u001b[0;34m\u001b[0m\u001b[0m\n",
      "\u001b[0;31mSource:\u001b[0m   \n",
      "    \u001b[0;32mdef\u001b[0m \u001b[0mrandom_color\u001b[0m\u001b[0;34m(\u001b[0m\u001b[0mself\u001b[0m\u001b[0;34m,\u001b[0m\u001b[0mprobability\u001b[0m\u001b[0;34m,\u001b[0m\u001b[0mmin_factor\u001b[0m\u001b[0;34m,\u001b[0m\u001b[0mmax_factor\u001b[0m\u001b[0;34m)\u001b[0m\u001b[0;34m:\u001b[0m\u001b[0;34m\u001b[0m\n",
      "\u001b[0;34m\u001b[0m        \u001b[0;34m\"\"\"\u001b[0m\n",
      "\u001b[0;34m        Random change saturation of an image.\u001b[0m\n",
      "\u001b[0;34m\u001b[0m\n",
      "\u001b[0;34m        :param probability: Controls the probability that the operation is\u001b[0m\n",
      "\u001b[0;34m         performed when it is invoked in the pipeline.\u001b[0m\n",
      "\u001b[0;34m        :param min_factor: The value between 0.0 and max_factor that define the minimum adjustment of image saturation.\u001b[0m\n",
      "\u001b[0;34m         The value 0.0 gives a black and white image, value 1.0 gives the original image.\u001b[0m\n",
      "\u001b[0;34m        :param max_factor: A value should be bigger than min_factor that define the maximum adjustment of image saturation.\u001b[0m\n",
      "\u001b[0;34m         The value 0.0 gives a black and white image, value 1.0 gives the original image.\u001b[0m\n",
      "\u001b[0;34m        :return: None\u001b[0m\n",
      "\u001b[0;34m        \"\"\"\u001b[0m\u001b[0;34m\u001b[0m\n",
      "\u001b[0;34m\u001b[0m        \u001b[0;32mif\u001b[0m \u001b[0;32mnot\u001b[0m \u001b[0;36m0\u001b[0m \u001b[0;34m<\u001b[0m \u001b[0mprobability\u001b[0m \u001b[0;34m<=\u001b[0m \u001b[0;36m1\u001b[0m\u001b[0;34m:\u001b[0m\u001b[0;34m\u001b[0m\n",
      "\u001b[0;34m\u001b[0m            \u001b[0;32mraise\u001b[0m \u001b[0mValueError\u001b[0m\u001b[0;34m(\u001b[0m\u001b[0mPipeline\u001b[0m\u001b[0;34m.\u001b[0m\u001b[0m_probability_error_text\u001b[0m\u001b[0;34m)\u001b[0m\u001b[0;34m\u001b[0m\n",
      "\u001b[0;34m\u001b[0m        \u001b[0;32melif\u001b[0m \u001b[0;32mnot\u001b[0m \u001b[0;36m0\u001b[0m \u001b[0;34m<=\u001b[0m \u001b[0mmin_factor\u001b[0m \u001b[0;34m<=\u001b[0m \u001b[0mmax_factor\u001b[0m\u001b[0;34m:\u001b[0m\u001b[0;34m\u001b[0m\n",
      "\u001b[0;34m\u001b[0m            \u001b[0;32mraise\u001b[0m \u001b[0mValueError\u001b[0m\u001b[0;34m(\u001b[0m\u001b[0;34m\"The min_factor must be between 0 and max_factor.\"\u001b[0m\u001b[0;34m)\u001b[0m\u001b[0;34m\u001b[0m\n",
      "\u001b[0;34m\u001b[0m        \u001b[0;32melif\u001b[0m \u001b[0;32mnot\u001b[0m \u001b[0mmin_factor\u001b[0m \u001b[0;34m<=\u001b[0m \u001b[0mmax_factor\u001b[0m\u001b[0;34m:\u001b[0m\u001b[0;34m\u001b[0m\n",
      "\u001b[0;34m\u001b[0m            \u001b[0;32mraise\u001b[0m \u001b[0mValueError\u001b[0m\u001b[0;34m(\u001b[0m\u001b[0;34m\"The max_factor must be bigger min_factor.\"\u001b[0m\u001b[0;34m)\u001b[0m\u001b[0;34m\u001b[0m\n",
      "\u001b[0;34m\u001b[0m        \u001b[0;32melse\u001b[0m\u001b[0;34m:\u001b[0m\u001b[0;34m\u001b[0m\n",
      "\u001b[0;34m\u001b[0m            \u001b[0mself\u001b[0m\u001b[0;34m.\u001b[0m\u001b[0madd_operation\u001b[0m\u001b[0;34m(\u001b[0m\u001b[0mRandomColor\u001b[0m\u001b[0;34m(\u001b[0m\u001b[0mprobability\u001b[0m\u001b[0;34m=\u001b[0m\u001b[0mprobability\u001b[0m\u001b[0;34m,\u001b[0m \u001b[0mmin_factor\u001b[0m\u001b[0;34m=\u001b[0m\u001b[0mmin_factor\u001b[0m\u001b[0;34m,\u001b[0m\u001b[0mmax_factor\u001b[0m\u001b[0;34m=\u001b[0m\u001b[0mmax_factor\u001b[0m\u001b[0;34m)\u001b[0m\u001b[0;34m)\u001b[0m\u001b[0;34m\u001b[0m\u001b[0;34m\u001b[0m\u001b[0m\n",
      "\u001b[0;31mFile:\u001b[0m      ~/Desktop/CircuitsAI/project_env/lib/python3.8/site-packages/Augmentor/Pipeline.py\n",
      "\u001b[0;31mType:\u001b[0m      method\n"
     ]
    }
   ],
   "source": [
    "image_pipeline.random_color??"
   ]
  },
  {
   "cell_type": "code",
   "execution_count": null,
   "metadata": {},
   "outputs": [],
   "source": [
    "image_pipeline.rotate(probability=0.7,max_left_rotation=12.5,max_right_rotation=12.5)\n",
    "image_pipeline.random_color(probability=0.5,min_factor=0.3,max_factor=.7)\n",
    "image_pipeline.flip_random(probability=0.5)\n",
    "image_pipeline.random_distortion(probability=0.5,grid_height=6,grid_width=6,magnitude=5)\n",
    "image_pipeline.scale(probability=0.2,scale_factor=2)\n",
    "image_pipeline.scale(probability=0.2,scale_factor=3)\n",
    "image_pipeline.scale(probability=0.2,scale_factor=0.5)\n",
    "image_pipeline.scale(probability=0.2,scale_factor=0.3)\n",
    "\n"
   ]
  },
  {
   "cell_type": "code",
   "execution_count": null,
   "metadata": {},
   "outputs": [
    {
     "name": "stderr",
     "output_type": "stream",
     "text": [
      "Processing <PIL.Image.Image image mode=RGBA size=1315x834 at 0x7F9C8FC91F10>: 100%|██████████| 1000/1000 [01:27<00:00, 11.44 Samples/s]               \n"
     ]
    }
   ],
   "source": [
    "image_pipeline.sample(1000)"
   ]
  },
  {
   "cell_type": "markdown",
   "metadata": {},
   "source": [
    "So, I'll add this at the top of the tensorflow pipeline"
   ]
  },
  {
   "cell_type": "markdown",
   "metadata": {},
   "source": [
    "I defined a function in case I require more classes. "
   ]
  },
  {
   "cell_type": "code",
   "execution_count": 277,
   "metadata": {},
   "outputs": [],
   "source": [
    "def ImagePipeline(filename,image_number):\n",
    "    image_pipeline = aug.Pipeline(filename)\n",
    "    image_pipeline.rotate(probability=0.7,max_left_rotation=12.5,max_right_rotation=12.5)\n",
    "    image_pipeline.random_color(probability=0.5,min_factor=0.3,max_factor=.7)\n",
    "    image_pipeline.flip_random(probability=0.5)\n",
    "    image_pipeline.random_distortion(probability=0.5,grid_height=6,grid_width=6,magnitude=5)\n",
    "    image_pipeline.scale(probability=0.2,scale_factor=2)\n",
    "    image_pipeline.scale(probability=0.2,scale_factor=3)\n",
    "\n",
    "    image_pipeline.rotate180(probability=0.5)\n",
    "    image_pipeline.rotate270(probability=0.5)\n",
    "    image_pipeline.rotate90(probability=0.5)\n",
    "    image_pipeline.sample(image_number)\n",
    "\n",
    "    image_pipeline.process()\n",
    "   \n",
    "    \n",
    "    \n",
    "    "
   ]
  },
  {
   "cell_type": "markdown",
   "metadata": {},
   "source": [
    "So, after gettig the images of a category, I ran it through the pipeline"
   ]
  },
  {
   "cell_type": "code",
   "execution_count": 278,
   "metadata": {},
   "outputs": [
    {
     "name": "stdout",
     "output_type": "stream",
     "text": [
      "Initialised with 22 image(s) found.\n",
      "Output directory set to data/bjt/output."
     ]
    },
    {
     "name": "stderr",
     "output_type": "stream",
     "text": [
      "Processing <PIL.Image.Image image mode=RGBA size=1472x2322 at 0x7FDC9689FE20>: 100%|██████████| 10000/10000 [33:42<00:00,  4.94 Samples/s]              \n",
      "Processing <PIL.Image.Image image mode=RGBA size=1371x1497 at 0x7FDC9C7DE2B0>: 100%|██████████| 22/22 [00:05<00:00,  3.74 Samples/s]\n"
     ]
    }
   ],
   "source": [
    "ImagePipeline(\"data/bjt\",10000)"
   ]
  },
  {
   "cell_type": "code",
   "execution_count": 279,
   "metadata": {},
   "outputs": [
    {
     "name": "stdout",
     "output_type": "stream",
     "text": [
      "Initialised with 19 image(s) found.\n",
      "Output directory set to data/C/output."
     ]
    },
    {
     "name": "stderr",
     "output_type": "stream",
     "text": [
      "Processing <PIL.Image.Image image mode=RGB size=636x779 at 0x7FDC9A1F6CD0>: 100%|██████████| 10000/10000 [50:27<00:00,  3.30 Samples/s]                 \n",
      "Processing <PIL.Image.Image image mode=RGBA size=1046x941 at 0x7FDC9A1EFD30>: 100%|██████████| 19/19 [00:04<00:00,  4.32 Samples/s] \n"
     ]
    }
   ],
   "source": [
    "ImagePipeline(\"data/C\",10000)\n"
   ]
  },
  {
   "cell_type": "code",
   "execution_count": 280,
   "metadata": {},
   "outputs": [
    {
     "name": "stdout",
     "output_type": "stream",
     "text": [
      "Initialised with 17 image(s) found.\n",
      "Output directory set to data/diode/output."
     ]
    },
    {
     "name": "stderr",
     "output_type": "stream",
     "text": [
      "Processing <PIL.Image.Image image mode=RGBA size=510x1025 at 0x7FDC9A28AD00>: 100%|██████████| 10000/10000 [1:00:26<00:00,  2.76 Samples/s]              \n",
      "Processing <PIL.Image.Image image mode=RGBA size=959x636 at 0x7FDC9A28AA00>: 100%|██████████| 17/17 [00:11<00:00,  1.43 Samples/s]  \n"
     ]
    }
   ],
   "source": [
    "ImagePipeline(\"data/diode\",10000)\n"
   ]
  },
  {
   "cell_type": "code",
   "execution_count": 281,
   "metadata": {},
   "outputs": [
    {
     "name": "stdout",
     "output_type": "stream",
     "text": [
      "Initialised with 17 image(s) found.\n",
      "Output directory set to data/dis/output."
     ]
    },
    {
     "name": "stderr",
     "output_type": "stream",
     "text": [
      "Processing <PIL.Image.Image image mode=RGBA size=554x1071 at 0x7FDC7EE519D0>: 100%|██████████| 10000/10000 [1:05:08<00:00,  2.56 Samples/s]               \n",
      "Processing <PIL.Image.Image image mode=RGBA size=1269x916 at 0x7FDC9BAFC730>: 100%|██████████| 17/17 [00:05<00:00,  2.87 Samples/s]               \n"
     ]
    }
   ],
   "source": [
    "ImagePipeline(\"data/dis\",10000)\n"
   ]
  },
  {
   "cell_type": "code",
   "execution_count": 282,
   "metadata": {},
   "outputs": [
    {
     "name": "stdout",
     "output_type": "stream",
     "text": [
      "Initialised with 18 image(s) found.\n",
      "Output directory set to data/dvs/output."
     ]
    },
    {
     "name": "stderr",
     "output_type": "stream",
     "text": [
      "Processing <PIL.Image.Image image mode=RGBA size=528x827 at 0x7FDC975EA8E0>: 100%|██████████| 10000/10000 [58:03<00:00,  2.87 Samples/s]                  \n",
      "Processing <PIL.Image.Image image mode=RGBA size=572x931 at 0x7FDC975FBF70>: 100%|██████████| 18/18 [00:09<00:00,  1.97 Samples/s]  \n"
     ]
    }
   ],
   "source": [
    "ImagePipeline(\"data/dvs\",10000)\n"
   ]
  },
  {
   "cell_type": "code",
   "execution_count": 283,
   "metadata": {},
   "outputs": [
    {
     "name": "stdout",
     "output_type": "stream",
     "text": [
      "Initialised with 17 image(s) found.\n",
      "Output directory set to data/gnd/output."
     ]
    },
    {
     "name": "stderr",
     "output_type": "stream",
     "text": [
      "Processing <PIL.Image.Image image mode=RGBA size=1784x1272 at 0x7FDC9B429400>: 100%|██████████| 10000/10000 [1:30:38<00:00,  1.84 Samples/s]              \n",
      "Processing <PIL.Image.Image image mode=RGBA size=1042x1396 at 0x7FDC9B3F1730>: 100%|██████████| 17/17 [00:07<00:00,  2.28 Samples/s]\n"
     ]
    }
   ],
   "source": [
    "ImagePipeline(\"data/gnd\",10000)"
   ]
  },
  {
   "cell_type": "code",
   "execution_count": 284,
   "metadata": {},
   "outputs": [
    {
     "name": "stdout",
     "output_type": "stream",
     "text": [
      "Initialised with 17 image(s) found.\n",
      "Output directory set to data/is/output."
     ]
    },
    {
     "name": "stderr",
     "output_type": "stream",
     "text": [
      "Processing <PIL.Image.Image image mode=RGBA size=1920x2937 at 0x7FDC9BB17880>: 100%|██████████| 10000/10000 [47:36<00:00,  3.50 Samples/s]                 \n",
      "Processing <PIL.Image.Image image mode=RGBA size=3492x3114 at 0x7FDC9BAF9D30>: 100%|██████████| 17/17 [00:05<00:00,  3.12 Samples/s]\n"
     ]
    }
   ],
   "source": [
    "ImagePipeline(\"data/is\",10000)"
   ]
  },
  {
   "cell_type": "code",
   "execution_count": 285,
   "metadata": {},
   "outputs": [
    {
     "name": "stdout",
     "output_type": "stream",
     "text": [
      "Initialised with 18 image(s) found.\n",
      "Output directory set to data/L/output."
     ]
    },
    {
     "name": "stderr",
     "output_type": "stream",
     "text": [
      "Processing <PIL.Image.Image image mode=RGBA size=3288x6522 at 0x7FDC975AAA60>: 100%|██████████| 10000/10000 [1:11:05<00:00,  2.34 Samples/s]              \n",
      "Processing <PIL.Image.Image image mode=RGBA size=434x759 at 0x7FDC9A765C70>: 100%|██████████| 18/18 [00:09<00:00,  1.87 Samples/s]  \n"
     ]
    }
   ],
   "source": [
    "ImagePipeline(\"data/L\",10000)"
   ]
  },
  {
   "cell_type": "code",
   "execution_count": 286,
   "metadata": {},
   "outputs": [
    {
     "name": "stdout",
     "output_type": "stream",
     "text": [
      "Initialised with 19 image(s) found.\n",
      "Output directory set to data/mosfet/output."
     ]
    },
    {
     "name": "stderr",
     "output_type": "stream",
     "text": [
      "Processing <PIL.Image.Image image mode=RGBA size=1243x1637 at 0x7FDC975B7C40>: 100%|██████████| 10000/10000 [59:35<00:00,  2.80 Samples/s]               \n",
      "Processing <PIL.Image.Image image mode=RGBA size=1931x1364 at 0x7FDC975B8610>: 100%|██████████| 19/19 [00:07<00:00,  2.71 Samples/s]\n"
     ]
    },
    {
     "name": "stdout",
     "output_type": "stream",
     "text": [
      "Initialised with 18 image(s) found.\n",
      "Output directory set to data/opamp/output."
     ]
    },
    {
     "name": "stderr",
     "output_type": "stream",
     "text": [
      "Processing <PIL.Image.Image image mode=RGBA size=779x502 at 0x7FDC9C77C9D0>: 100%|██████████| 10000/10000 [1:06:10<00:00,  2.52 Samples/s]                 \n",
      "Processing <PIL.Image.Image image mode=RGBA size=496x835 at 0x7FDC9A237190>: 100%|██████████| 18/18 [00:05<00:00,  3.14 Samples/s]  \n"
     ]
    },
    {
     "name": "stdout",
     "output_type": "stream",
     "text": [
      "Initialised with 18 image(s) found.\n",
      "Output directory set to data/R/output."
     ]
    },
    {
     "name": "stderr",
     "output_type": "stream",
     "text": [
      "Processing <PIL.Image.Image image mode=RGBA size=1636x1410 at 0x7FDC9A1FA460>: 100%|██████████| 10000/10000 [1:06:47<00:00,  2.50 Samples/s]               \n",
      "Processing <PIL.Image.Image image mode=RGBA size=2406x3801 at 0x7FDC9A1FA670>: 100%|██████████| 18/18 [00:16<00:00,  1.08 Samples/s]\n"
     ]
    },
    {
     "name": "stdout",
     "output_type": "stream",
     "text": [
      "Initialised with 18 image(s) found.\n",
      "Output directory set to data/vs/output."
     ]
    },
    {
     "name": "stderr",
     "output_type": "stream",
     "text": [
      "Processing <PIL.Image.Image image mode=RGBA size=4620x3567 at 0x7FDC975EF280>: 100%|██████████| 10000/10000 [1:41:27<00:00,  1.64 Samples/s]               \n",
      "Processing <PIL.Image.Image image mode=RGB size=4818x3696 at 0x7FDC975FDB20>: 100%|██████████| 18/18 [00:08<00:00,  2.08 Samples/s] \n"
     ]
    }
   ],
   "source": [
    "ImagePipeline(\"data/mosfet\",10000)\n",
    "ImagePipeline(\"data/opamp\",10000)\n",
    "ImagePipeline(\"data/R\",10000)\n",
    "ImagePipeline(\"data/vs\",10000)"
   ]
  },
  {
   "cell_type": "code",
   "execution_count": 287,
   "metadata": {},
   "outputs": [
    {
     "name": "stdout",
     "output_type": "stream",
     "text": [
      "Found 120436 files belonging to 12 classes.\n"
     ]
    },
    {
     "name": "stderr",
     "output_type": "stream",
     "text": [
      "2022-06-08 19:34:48.812728: I tensorflow/core/kernels/data/shuffle_dataset_op.cc:390] Filling up shuffle buffer (this may take a while): 273 of 400\n",
      "2022-06-08 19:34:52.345870: I tensorflow/core/kernels/data/shuffle_dataset_op.cc:415] Shuffle buffer filled.\n"
     ]
    },
    {
     "data": {
      "image/png": "[encoded data removed]",
      "text/plain": [
       "<Figure size 1440x1440 with 4 Axes>"
      ]
     },
     "metadata": {
      "needs_background": "light"
     },
     "output_type": "display_data"
    }
   ],
   "source": [
    "data = tf.keras.utils.image_dataset_from_directory('data',batch_size=50)\n",
    "\n",
    "data_iterator = data.as_numpy_iterator()\n",
    "batch = data_iterator.next()\n",
    "fig, ax = plt.subplots(ncols=4,figsize=(20,20))\n",
    "for idx, img in enumerate(batch[0][:4]):\n",
    "    ax[idx].imshow(img.astype(int))\n",
    "    ax[idx].title.set_text(batch[1][idx])\n"
   ]
  },
  {
   "cell_type": "code",
   "execution_count": 288,
   "metadata": {},
   "outputs": [],
   "source": [
    "data = data.map(lambda x, y :(x/255,y))\n"
   ]
  },
  {
   "cell_type": "code",
   "execution_count": 289,
   "metadata": {},
   "outputs": [
    {
     "data": {
      "text/plain": [
       "2409"
      ]
     },
     "execution_count": 289,
     "metadata": {},
     "output_type": "execute_result"
    }
   ],
   "source": [
    "len(data)"
   ]
  },
  {
   "cell_type": "code",
   "execution_count": 290,
   "metadata": {},
   "outputs": [],
   "source": [
    "train_size=1449\n",
    "test_size=480\n",
    "val_size=480"
   ]
  },
  {
   "cell_type": "code",
   "execution_count": 291,
   "metadata": {},
   "outputs": [
    {
     "data": {
      "text/plain": [
       "True"
      ]
     },
     "execution_count": 291,
     "metadata": {},
     "output_type": "execute_result"
    }
   ],
   "source": [
    "\n",
    "len(data)== (train_size+test_size+val_size)"
   ]
  },
  {
   "cell_type": "code",
   "execution_count": 292,
   "metadata": {},
   "outputs": [],
   "source": [
    "train = data.take(train_size)\n",
    "val = data.skip(train_size).take(val_size)\n",
    "test = data.skip(train_size+val_size).take(test_size)\n"
   ]
  },
  {
   "cell_type": "markdown",
   "metadata": {},
   "source": [
    "## Deep Learning Model ##"
   ]
  },
  {
   "cell_type": "code",
   "execution_count": 293,
   "metadata": {},
   "outputs": [],
   "source": [
    "from tensorflow.keras.models  import Sequential\n",
    "from tensorflow.keras.layers import Conv2D, MaxPooling2D,Dense,Flatten,Dropout"
   ]
  },
  {
   "cell_type": "code",
   "execution_count": 294,
   "metadata": {},
   "outputs": [],
   "source": [
    "from tensorflow.keras.applications.vgg16 import VGG16"
   ]
  },
  {
   "cell_type": "code",
   "execution_count": 295,
   "metadata": {},
   "outputs": [],
   "source": [
    "vgg16_model = VGG16(pooling='avg',weights='imagenet',include_top=False,input_shape=(256,256,3))\n",
    "for layers in vgg16_model.layers:\n",
    "    layers.trainable = False\n",
    "last_output = vgg16_model.layers[-1].output\n",
    "vgg_x = Flatten()(last_output)\n",
    "\n",
    "vgg_x = Dense(256, activation = 'relu')(vgg_x)\n",
    "vgg_x = Dense(12, activation = 'softmax')(vgg_x)\n",
    "\n",
    "vgg16_final_model = tf.keras.Model(vgg16_model.input, vgg_x)\n",
    "vgg16_final_model.compile(loss = 'sparse_categorical_crossentropy', optimizer= 'adam', metrics=['acc'])\n",
    "\n"
   ]
  },
  {
   "cell_type": "code",
   "execution_count": 296,
   "metadata": {},
   "outputs": [
    {
     "name": "stdout",
     "output_type": "stream",
     "text": [
      "Epoch 1/10\n"
     ]
    },
    {
     "name": "stderr",
     "output_type": "stream",
     "text": [
      "2022-06-08 19:36:02.363373: I tensorflow/core/kernels/data/shuffle_dataset_op.cc:390] Filling up shuffle buffer (this may take a while): 221 of 400\n",
      "2022-06-08 19:36:06.991501: I tensorflow/core/kernels/data/shuffle_dataset_op.cc:415] Shuffle buffer filled.\n"
     ]
    },
    {
     "name": "stdout",
     "output_type": "stream",
     "text": [
      " 355/1449 [======>.......................] - ETA: 2:37:57 - loss: 1.5390 - acc: 0.5459"
     ]
    },
    {
     "name": "stderr",
     "output_type": "stream",
     "text": [
      "2022-06-08 20:27:25.430975: W tensorflow/core/lib/png/png_io.cc:88] PNG warning: cHRM: invalid chromaticities\n"
     ]
    },
    {
     "name": "stdout",
     "output_type": "stream",
     "text": [
      " 792/1449 [===============>..............] - ETA: 1:37:51 - loss: 1.0736 - acc: 0.6886"
     ]
    },
    {
     "name": "stderr",
     "output_type": "stream",
     "text": [
      "2022-06-08 21:34:09.379879: W tensorflow/core/lib/png/png_io.cc:88] PNG warning: cHRM: invalid chromaticities\n"
     ]
    },
    {
     "name": "stdout",
     "output_type": "stream",
     "text": [
      " 919/1449 [==================>...........] - ETA: 1:18:21 - loss: 0.9913 - acc: 0.7137"
     ]
    },
    {
     "name": "stderr",
     "output_type": "stream",
     "text": [
      "2022-06-08 21:52:06.307301: W tensorflow/core/lib/png/png_io.cc:88] PNG warning: cHRM: invalid chromaticities\n"
     ]
    },
    {
     "name": "stdout",
     "output_type": "stream",
     "text": [
      "1115/1449 [======================>.......] - ETA: 49:31 - loss: 0.8893 - acc: 0.7452"
     ]
    },
    {
     "name": "stderr",
     "output_type": "stream",
     "text": [
      "2022-06-08 22:21:30.105996: W tensorflow/core/lib/png/png_io.cc:88] PNG warning: cHRM: invalid chromaticities\n"
     ]
    },
    {
     "name": "stdout",
     "output_type": "stream",
     "text": [
      "1449/1449 [==============================] - ETA: 0s - loss: 0.7600 - acc: 0.7839"
     ]
    },
    {
     "name": "stderr",
     "output_type": "stream",
     "text": [
      "2022-06-08 23:09:22.516638: I tensorflow/core/kernels/data/shuffle_dataset_op.cc:390] Filling up shuffle buffer (this may take a while): 284 of 400\n",
      "2022-06-08 23:09:25.509753: I tensorflow/core/kernels/data/shuffle_dataset_op.cc:415] Shuffle buffer filled.\n",
      "2022-06-08 23:51:06.313990: W tensorflow/core/lib/png/png_io.cc:88] PNG warning: cHRM: invalid chromaticities\n",
      "2022-06-09 00:03:28.421585: W tensorflow/core/lib/png/png_io.cc:88] PNG warning: cHRM: invalid chromaticities\n",
      "2022-06-09 00:06:46.115331: W tensorflow/core/lib/png/png_io.cc:88] PNG warning: cHRM: invalid chromaticities\n",
      "2022-06-09 00:12:12.886445: W tensorflow/core/lib/png/png_io.cc:88] PNG warning: cHRM: invalid chromaticities\n",
      "2022-06-09 00:24:33.893556: W tensorflow/core/lib/png/png_io.cc:88] PNG warning: cHRM: invalid chromaticities\n",
      "2022-06-09 01:19:40.999342: W tensorflow/core/lib/png/png_io.cc:88] PNG warning: cHRM: invalid chromaticities\n"
     ]
    },
    {
     "name": "stdout",
     "output_type": "stream",
     "text": [
      "1449/1449 [==============================] - 20940s 14s/step - loss: 0.7600 - acc: 0.7839 - val_loss: 0.2947 - val_acc: 0.9252\n",
      "Epoch 2/10\n"
     ]
    },
    {
     "name": "stderr",
     "output_type": "stream",
     "text": [
      "2022-06-09 01:25:01.841734: I tensorflow/core/kernels/data/shuffle_dataset_op.cc:390] Filling up shuffle buffer (this may take a while): 307 of 400\n",
      "2022-06-09 01:25:04.401237: I tensorflow/core/kernels/data/shuffle_dataset_op.cc:415] Shuffle buffer filled.\n"
     ]
    },
    {
     "name": "stdout",
     "output_type": "stream",
     "text": [
      " 355/1449 [======>.......................] - ETA: 2:23:45 - loss: 0.2695 - acc: 0.9292"
     ]
    },
    {
     "name": "stderr",
     "output_type": "stream",
     "text": [
      "2022-06-09 02:11:44.862257: W tensorflow/core/lib/png/png_io.cc:88] PNG warning: cHRM: invalid chromaticities\n"
     ]
    },
    {
     "name": "stdout",
     "output_type": "stream",
     "text": [
      " 792/1449 [===============>..............] - ETA: 1:26:03 - loss: 0.2412 - acc: 0.9369"
     ]
    },
    {
     "name": "stderr",
     "output_type": "stream",
     "text": [
      "2022-06-09 03:08:52.476689: W tensorflow/core/lib/png/png_io.cc:88] PNG warning: cHRM: invalid chromaticities\n"
     ]
    },
    {
     "name": "stdout",
     "output_type": "stream",
     "text": [
      " 919/1449 [==================>...........] - ETA: 1:09:21 - loss: 0.2337 - acc: 0.9391"
     ]
    },
    {
     "name": "stderr",
     "output_type": "stream",
     "text": [
      "2022-06-09 03:25:24.802343: W tensorflow/core/lib/png/png_io.cc:88] PNG warning: cHRM: invalid chromaticities\n"
     ]
    },
    {
     "name": "stdout",
     "output_type": "stream",
     "text": [
      "1115/1449 [======================>.......] - ETA: 43:39 - loss: 0.2229 - acc: 0.9424"
     ]
    },
    {
     "name": "stderr",
     "output_type": "stream",
     "text": [
      "2022-06-09 03:50:52.755905: W tensorflow/core/lib/png/png_io.cc:88] PNG warning: cHRM: invalid chromaticities\n"
     ]
    },
    {
     "name": "stdout",
     "output_type": "stream",
     "text": [
      "1449/1449 [==============================] - ETA: 0s - loss: 0.2061 - acc: 0.9476"
     ]
    },
    {
     "name": "stderr",
     "output_type": "stream",
     "text": [
      "2022-06-09 04:34:34.004167: I tensorflow/core/kernels/data/shuffle_dataset_op.cc:390] Filling up shuffle buffer (this may take a while): 307 of 400\n",
      "2022-06-09 04:34:36.541053: I tensorflow/core/kernels/data/shuffle_dataset_op.cc:415] Shuffle buffer filled.\n",
      "2022-06-09 04:45:19.855446: W tensorflow/core/lib/png/png_io.cc:88] PNG warning: cHRM: invalid chromaticities\n",
      "2022-06-09 04:57:35.657130: W tensorflow/core/lib/png/png_io.cc:88] PNG warning: cHRM: invalid chromaticities\n",
      "2022-06-09 05:00:53.558714: W tensorflow/core/lib/png/png_io.cc:88] PNG warning: cHRM: invalid chromaticities\n",
      "2022-06-09 05:06:20.367044: W tensorflow/core/lib/png/png_io.cc:88] PNG warning: cHRM: invalid chromaticities\n",
      "2022-06-09 05:18:39.819739: W tensorflow/core/lib/png/png_io.cc:88] PNG warning: cHRM: invalid chromaticities\n",
      "2022-06-09 06:13:09.704829: W tensorflow/core/lib/png/png_io.cc:88] PNG warning: cHRM: invalid chromaticities\n"
     ]
    },
    {
     "name": "stdout",
     "output_type": "stream",
     "text": [
      "Restoring model weights from the end of the best epoch: 2.\n",
      "1449/1449 [==============================] - 17606s 12s/step - loss: 0.2061 - acc: 0.9476 - val_loss: 0.1442 - val_acc: 0.9642\n",
      "Epoch 2: early stopping\n"
     ]
    }
   ],
   "source": [
    "logdir = 'logs'\n",
    "tensorboard_callback = tf.keras.callbacks.TensorBoard(log_dir=logdir)\n",
    "earlystopping = tf.keras.callbacks.EarlyStopping(monitor=\"val_loss\",mode=\"min\",patience=0,restore_best_weights=True,verbose=1)\n",
    "hist = vgg16_final_model.fit(train,epochs=10,validation_data=val,callbacks=[tensorboard_callback,earlystopping])\n",
    "\n"
   ]
  },
  {
   "cell_type": "markdown",
   "metadata": {},
   "source": [
    "Okay, after this, I have decided to start thinking up the other sets of data that I would need"
   ]
  },
  {
   "cell_type": "code",
   "execution_count": 297,
   "metadata": {},
   "outputs": [
    {
     "data": {
      "image/png": "[encoded data removed]",
      "text/plain": [
       "<Figure size 432x288 with 1 Axes>"
      ]
     },
     "metadata": {
      "needs_background": "light"
     },
     "output_type": "display_data"
    }
   ],
   "source": [
    "fig = plt.figure()\n",
    "plt.plot(hist.history['loss'],color='red',label='loss')\n",
    "plt.plot(hist.history['val_loss'],color='blue',label='val_loss')\n",
    "fig.suptitle('Loss',fontsize=20)\n",
    "plt.legend(loc=\"upper left\")\n",
    "plt.show()"
   ]
  },
  {
   "cell_type": "code",
   "execution_count": 298,
   "metadata": {},
   "outputs": [
    {
     "ename": "KeyError",
     "evalue": "'accuracy'",
     "output_type": "error",
     "traceback": [
      "\u001b[0;31m---------------------------------------------------------------------------\u001b[0m",
      "\u001b[0;31mKeyError\u001b[0m                                  Traceback (most recent call last)",
      "\u001b[1;32m/Users/oreadeniyi/Desktop/CircuitsAI/element_detector.ipynb Cell 47'\u001b[0m in \u001b[0;36m<cell line: 2>\u001b[0;34m()\u001b[0m\n\u001b[1;32m      <a href='vscode-notebook-cell:/Users/oreadeniyi/Desktop/CircuitsAI/element_detector.ipynb#ch0000046?line=0'>1</a>\u001b[0m fig \u001b[39m=\u001b[39m plt\u001b[39m.\u001b[39mfigure()\n\u001b[0;32m----> <a href='vscode-notebook-cell:/Users/oreadeniyi/Desktop/CircuitsAI/element_detector.ipynb#ch0000046?line=1'>2</a>\u001b[0m plt\u001b[39m.\u001b[39mplot(hist\u001b[39m.\u001b[39;49mhistory[\u001b[39m'\u001b[39;49m\u001b[39maccuracy\u001b[39;49m\u001b[39m'\u001b[39;49m],color\u001b[39m=\u001b[39m\u001b[39m'\u001b[39m\u001b[39mred\u001b[39m\u001b[39m'\u001b[39m,label\u001b[39m=\u001b[39m\u001b[39m'\u001b[39m\u001b[39maccuracy\u001b[39m\u001b[39m'\u001b[39m)\n\u001b[1;32m      <a href='vscode-notebook-cell:/Users/oreadeniyi/Desktop/CircuitsAI/element_detector.ipynb#ch0000046?line=3'>4</a>\u001b[0m plt\u001b[39m.\u001b[39mplot(hist\u001b[39m.\u001b[39mhistory[\u001b[39m'\u001b[39m\u001b[39mval_accuracy\u001b[39m\u001b[39m'\u001b[39m],color\u001b[39m=\u001b[39m\u001b[39m'\u001b[39m\u001b[39mblue\u001b[39m\u001b[39m'\u001b[39m,label\u001b[39m=\u001b[39m\u001b[39m'\u001b[39m\u001b[39mval_accuracy\u001b[39m\u001b[39m'\u001b[39m)\n\u001b[1;32m      <a href='vscode-notebook-cell:/Users/oreadeniyi/Desktop/CircuitsAI/element_detector.ipynb#ch0000046?line=4'>5</a>\u001b[0m fig\u001b[39m.\u001b[39msuptitle(\u001b[39m'\u001b[39m\u001b[39mAccuracy\u001b[39m\u001b[39m'\u001b[39m,fontsize\u001b[39m=\u001b[39m\u001b[39m20\u001b[39m)\n",
      "\u001b[0;31mKeyError\u001b[0m: 'accuracy'"
     ]
    },
    {
     "data": {
      "text/plain": [
       "<Figure size 432x288 with 0 Axes>"
      ]
     },
     "metadata": {},
     "output_type": "display_data"
    }
   ],
   "source": [
    "fig = plt.figure()\n",
    "plt.plot(hist.history['accuracy'],color='red',label='accuracy')\n",
    "\n",
    "plt.plot(hist.history['val_accuracy'],color='blue',label='val_accuracy')\n",
    "fig.suptitle('Accuracy',fontsize=20)\n",
    "plt.legend(loc=\"upper left\")\n",
    "plt.show()"
   ]
  },
  {
   "cell_type": "code",
   "execution_count": 299,
   "metadata": {},
   "outputs": [],
   "source": [
    "precision = Precision()\n",
    "recall = Recall()\n",
    "acc = BinaryAccuracy()"
   ]
  },
  {
   "cell_type": "code",
   "execution_count": 67,
   "metadata": {},
   "outputs": [
    {
     "name": "stderr",
     "output_type": "stream",
     "text": [
      "2022-06-02 23:21:58.158644: W tensorflow/core/lib/png/png_io.cc:88] PNG warning: cHRM: invalid chromaticities\n",
      "2022-06-02 23:22:52.231976: W tensorflow/core/lib/png/png_io.cc:88] PNG warning: cHRM: invalid chromaticities\n"
     ]
    },
    {
     "name": "stdout",
     "output_type": "stream",
     "text": [
      "2/2 [==============================] - 11s 4s/step\n",
      "2/2 [==============================] - 10s 4s/step\n",
      "2/2 [==============================] - 10s 4s/step\n",
      "2/2 [==============================] - 11s 4s/step\n",
      "2/2 [==============================] - 10s 3s/step\n",
      "2/2 [==============================] - 9s 3s/step\n",
      "2/2 [==============================] - 10s 4s/step\n",
      "2/2 [==============================] - 10s 3s/step\n",
      "2/2 [==============================] - 10s 4s/step\n",
      "2/2 [==============================] - 10s 4s/step\n",
      "2/2 [==============================] - 10s 4s/step\n",
      "2/2 [==============================] - 10s 4s/step\n",
      "2/2 [==============================] - 10s 4s/step\n",
      "2/2 [==============================] - 9s 3s/step\n",
      "2/2 [==============================] - 10s 4s/step\n",
      "2/2 [==============================] - 10s 4s/step\n",
      "2/2 [==============================] - 10s 4s/step\n",
      "2/2 [==============================] - 10s 4s/step\n",
      "2/2 [==============================] - 10s 4s/step\n",
      "2/2 [==============================] - 11s 4s/step\n",
      "2/2 [==============================] - 11s 4s/step\n",
      "2/2 [==============================] - 10s 4s/step\n",
      "2/2 [==============================] - 10s 4s/step\n",
      "2/2 [==============================] - 11s 4s/step\n",
      "2/2 [==============================] - 11s 4s/step\n",
      "2/2 [==============================] - 10s 4s/step\n",
      "2/2 [==============================] - 10s 4s/step\n",
      "2/2 [==============================] - 10s 4s/step\n",
      "2/2 [==============================] - 10s 4s/step\n",
      "2/2 [==============================] - 10s 4s/step\n",
      "2/2 [==============================] - 11s 4s/step\n",
      "2/2 [==============================] - 11s 4s/step\n",
      "2/2 [==============================] - 10s 4s/step\n",
      "2/2 [==============================] - 10s 4s/step\n",
      "2/2 [==============================] - 10s 4s/step\n",
      "2/2 [==============================] - 10s 4s/step\n",
      "2/2 [==============================] - 11s 4s/step\n",
      "2/2 [==============================] - 10s 4s/step\n",
      "2/2 [==============================] - 10s 4s/step\n",
      "2/2 [==============================] - 10s 4s/step\n",
      "2/2 [==============================] - 11s 4s/step\n",
      "2/2 [==============================] - 11s 4s/step\n",
      "2/2 [==============================] - 10s 4s/step\n",
      "2/2 [==============================] - 12s 4s/step\n",
      "2/2 [==============================] - 11s 4s/step\n",
      "2/2 [==============================] - 10s 4s/step\n",
      "2/2 [==============================] - 9s 3s/step\n",
      "2/2 [==============================] - 8s 3s/step\n",
      "2/2 [==============================] - 8s 3s/step\n",
      "2/2 [==============================] - 8s 3s/step\n",
      "2/2 [==============================] - 8s 3s/step\n",
      "2/2 [==============================] - 8s 3s/step\n",
      "2/2 [==============================] - 8s 3s/step\n",
      "2/2 [==============================] - 8s 3s/step\n",
      "2/2 [==============================] - 8s 3s/step\n",
      "2/2 [==============================] - 8s 3s/step\n",
      "2/2 [==============================] - 8s 3s/step\n",
      "2/2 [==============================] - 8s 3s/step\n",
      "2/2 [==============================] - 8s 3s/step\n",
      "2/2 [==============================] - 8s 3s/step\n",
      "2/2 [==============================] - 8s 3s/step\n",
      "2/2 [==============================] - 8s 3s/step\n",
      "2/2 [==============================] - 8s 3s/step\n",
      "2/2 [==============================] - 8s 3s/step\n",
      "2/2 [==============================] - 8s 3s/step\n",
      "2/2 [==============================] - 8s 3s/step\n",
      "2/2 [==============================] - 8s 3s/step\n",
      "2/2 [==============================] - 8s 3s/step\n",
      "2/2 [==============================] - 8s 3s/step\n",
      "2/2 [==============================] - 8s 3s/step\n",
      "2/2 [==============================] - 8s 3s/step\n",
      "2/2 [==============================] - 8s 3s/step\n",
      "2/2 [==============================] - 8s 3s/step\n",
      "2/2 [==============================] - 8s 3s/step\n",
      "2/2 [==============================] - 8s 3s/step\n",
      "2/2 [==============================] - 8s 3s/step\n",
      "2/2 [==============================] - 8s 3s/step\n",
      "2/2 [==============================] - 8s 3s/step\n",
      "2/2 [==============================] - 8s 3s/step\n",
      "2/2 [==============================] - 8s 3s/step\n",
      "2/2 [==============================] - 23s 12s/step\n",
      "2/2 [==============================] - 8s 3s/step\n",
      "2/2 [==============================] - 8s 3s/step\n",
      "2/2 [==============================] - 8s 3s/step\n",
      "2/2 [==============================] - 1397s 1391s/step\n",
      "2/2 [==============================] - 11s 3s/step\n",
      "2/2 [==============================] - 8s 3s/step\n",
      "2/2 [==============================] - 8s 3s/step\n",
      "2/2 [==============================] - 10s 4s/step\n",
      "2/2 [==============================] - 9s 3s/step\n",
      "2/2 [==============================] - 9s 3s/step\n",
      "2/2 [==============================] - 10s 4s/step\n",
      "2/2 [==============================] - 12s 4s/step\n",
      "2/2 [==============================] - 11s 4s/step\n",
      "2/2 [==============================] - 11s 4s/step\n",
      "2/2 [==============================] - 10s 4s/step\n",
      "2/2 [==============================] - 10s 4s/step\n",
      "2/2 [==============================] - 10s 3s/step\n",
      "2/2 [==============================] - 10s 4s/step\n",
      "2/2 [==============================] - 10s 3s/step\n",
      "2/2 [==============================] - 11s 4s/step\n",
      "2/2 [==============================] - 11s 4s/step\n",
      "2/2 [==============================] - 10s 3s/step\n",
      "2/2 [==============================] - 10s 4s/step\n",
      "2/2 [==============================] - 10s 4s/step\n",
      "2/2 [==============================] - 10s 3s/step\n",
      "2/2 [==============================] - 10s 3s/step\n",
      "2/2 [==============================] - 10s 3s/step\n",
      "2/2 [==============================] - 10s 4s/step\n",
      "2/2 [==============================] - 10s 4s/step\n",
      "2/2 [==============================] - 10s 3s/step\n",
      "2/2 [==============================] - 11s 4s/step\n",
      "2/2 [==============================] - 10s 4s/step\n",
      "2/2 [==============================] - 9s 3s/step\n",
      "2/2 [==============================] - 10s 4s/step\n",
      "2/2 [==============================] - 10s 3s/step\n",
      "2/2 [==============================] - 10s 3s/step\n",
      "2/2 [==============================] - 10s 3s/step\n",
      "2/2 [==============================] - 9s 3s/step\n",
      "2/2 [==============================] - 8s 3s/step\n",
      "2/2 [==============================] - 8s 3s/step\n",
      "2/2 [==============================] - 8s 3s/step\n",
      "2/2 [==============================] - 8s 3s/step\n",
      "2/2 [==============================] - 8s 3s/step\n",
      "2/2 [==============================] - 8s 3s/step\n",
      "2/2 [==============================] - 8s 3s/step\n",
      "2/2 [==============================] - 8s 3s/step\n",
      "2/2 [==============================] - 8s 3s/step\n",
      "2/2 [==============================] - 7s 3s/step\n",
      "2/2 [==============================] - 7s 3s/step\n",
      "2/2 [==============================] - 7s 3s/step\n",
      "2/2 [==============================] - 8s 3s/step\n",
      "2/2 [==============================] - 8s 3s/step\n",
      "2/2 [==============================] - 8s 3s/step\n",
      "2/2 [==============================] - 8s 3s/step\n",
      "2/2 [==============================] - 8s 3s/step\n",
      "2/2 [==============================] - 7s 3s/step\n",
      "2/2 [==============================] - 8s 3s/step\n",
      "2/2 [==============================] - 8s 3s/step\n",
      "2/2 [==============================] - 8s 3s/step\n",
      "2/2 [==============================] - 8s 3s/step\n",
      "2/2 [==============================] - 8s 3s/step\n",
      "2/2 [==============================] - 8s 3s/step\n",
      "2/2 [==============================] - 8s 3s/step\n",
      "2/2 [==============================] - 8s 3s/step\n",
      "2/2 [==============================] - 8s 3s/step\n",
      "2/2 [==============================] - 8s 3s/step\n",
      "2/2 [==============================] - 8s 3s/step\n",
      "2/2 [==============================] - 8s 3s/step\n",
      "2/2 [==============================] - 8s 3s/step\n",
      "2/2 [==============================] - 8s 3s/step\n",
      "2/2 [==============================] - 8s 3s/step\n",
      "2/2 [==============================] - 8s 3s/step\n",
      "2/2 [==============================] - 19s 9s/step\n",
      "2/2 [==============================] - 8s 3s/step\n",
      "2/2 [==============================] - 8s 3s/step\n",
      "2/2 [==============================] - 8s 3s/step\n",
      "2/2 [==============================] - 2145s 2140s/step\n",
      "2/2 [==============================] - 7s 3s/step\n",
      "2/2 [==============================] - 8s 3s/step\n",
      "2/2 [==============================] - 7s 3s/step\n",
      "2/2 [==============================] - 9s 3s/step\n",
      "2/2 [==============================] - 9s 3s/step\n",
      "2/2 [==============================] - 9s 3s/step\n",
      "2/2 [==============================] - 9s 3s/step\n",
      "2/2 [==============================] - 10s 4s/step\n",
      "2/2 [==============================] - 10s 3s/step\n",
      "2/2 [==============================] - 10s 3s/step\n",
      "2/2 [==============================] - 10s 4s/step\n",
      "2/2 [==============================] - 9s 3s/step\n",
      "2/2 [==============================] - 9s 3s/step\n",
      "2/2 [==============================] - 10s 4s/step\n",
      "2/2 [==============================] - 9s 3s/step\n",
      "2/2 [==============================] - 9s 3s/step\n",
      "2/2 [==============================] - 9s 3s/step\n",
      "2/2 [==============================] - 9s 3s/step\n",
      "2/2 [==============================] - 10s 3s/step\n",
      "2/2 [==============================] - 10s 3s/step\n",
      "2/2 [==============================] - 10s 4s/step\n",
      "2/2 [==============================] - 10s 3s/step\n",
      "2/2 [==============================] - 10s 3s/step\n",
      "2/2 [==============================] - 10s 3s/step\n",
      "2/2 [==============================] - 10s 3s/step\n",
      "2/2 [==============================] - 9s 3s/step\n",
      "2/2 [==============================] - 10s 3s/step\n",
      "2/2 [==============================] - 10s 3s/step\n",
      "2/2 [==============================] - 10s 3s/step\n",
      "2/2 [==============================] - 10s 3s/step\n",
      "2/2 [==============================] - 10s 3s/step\n",
      "2/2 [==============================] - 9s 3s/step\n",
      "2/2 [==============================] - 8s 3s/step\n",
      "2/2 [==============================] - 8s 3s/step\n",
      "2/2 [==============================] - 8s 3s/step\n",
      "2/2 [==============================] - 8s 3s/step\n",
      "2/2 [==============================] - 8s 3s/step\n",
      "2/2 [==============================] - 8s 3s/step\n",
      "2/2 [==============================] - 8s 3s/step\n",
      "2/2 [==============================] - 8s 3s/step\n",
      "2/2 [==============================] - 8s 3s/step\n",
      "2/2 [==============================] - 8s 3s/step\n",
      "2/2 [==============================] - 8s 3s/step\n",
      "2/2 [==============================] - 8s 3s/step\n",
      "2/2 [==============================] - 8s 3s/step\n",
      "2/2 [==============================] - 8s 3s/step\n",
      "2/2 [==============================] - 8s 3s/step\n",
      "2/2 [==============================] - 8s 3s/step\n",
      "2/2 [==============================] - 8s 3s/step\n",
      "2/2 [==============================] - 8s 3s/step\n",
      "2/2 [==============================] - 8s 3s/step\n",
      "2/2 [==============================] - 8s 3s/step\n",
      "2/2 [==============================] - 8s 3s/step\n",
      "2/2 [==============================] - 8s 3s/step\n",
      "2/2 [==============================] - 8s 3s/step\n",
      "2/2 [==============================] - 8s 3s/step\n",
      "2/2 [==============================] - 8s 3s/step\n",
      "2/2 [==============================] - 8s 3s/step\n",
      "2/2 [==============================] - 9s 3s/step\n",
      "2/2 [==============================] - 9s 3s/step\n",
      "2/2 [==============================] - 9s 3s/step\n",
      "2/2 [==============================] - 9s 3s/step\n",
      "2/2 [==============================] - 9s 3s/step\n",
      "2/2 [==============================] - 9s 3s/step\n",
      "2/2 [==============================] - 9s 3s/step\n",
      "2/2 [==============================] - 9s 3s/step\n",
      "2/2 [==============================] - 9s 3s/step\n",
      "2/2 [==============================] - 9s 3s/step\n",
      "2/2 [==============================] - 9s 3s/step\n",
      "2/2 [==============================] - 10s 3s/step\n",
      "2/2 [==============================] - 9s 3s/step\n",
      "2/2 [==============================] - 9s 3s/step\n",
      "2/2 [==============================] - 9s 3s/step\n",
      "2/2 [==============================] - 9s 4s/step\n",
      "2/2 [==============================] - 9s 3s/step\n",
      "2/2 [==============================] - 9s 3s/step\n",
      "2/2 [==============================] - 9s 4s/step\n",
      "2/2 [==============================] - 9s 3s/step\n",
      "2/2 [==============================] - 9s 3s/step\n",
      "2/2 [==============================] - 9s 3s/step\n",
      "2/2 [==============================] - 9s 3s/step\n",
      "2/2 [==============================] - 9s 3s/step\n",
      "2/2 [==============================] - 10s 4s/step\n",
      "2/2 [==============================] - 9s 3s/step\n",
      "2/2 [==============================] - 9s 3s/step\n",
      "2/2 [==============================] - 10s 3s/step\n",
      "2/2 [==============================] - 9s 3s/step\n",
      "2/2 [==============================] - 9s 3s/step\n",
      "2/2 [==============================] - 9s 3s/step\n",
      "2/2 [==============================] - 9s 3s/step\n",
      "2/2 [==============================] - 9s 3s/step\n",
      "2/2 [==============================] - 9s 3s/step\n",
      "2/2 [==============================] - 8s 3s/step\n",
      "2/2 [==============================] - 8s 3s/step\n",
      "2/2 [==============================] - 8s 3s/step\n",
      "2/2 [==============================] - 8s 3s/step\n",
      "2/2 [==============================] - 8s 3s/step\n",
      "2/2 [==============================] - 8s 3s/step\n",
      "2/2 [==============================] - 8s 3s/step\n",
      "2/2 [==============================] - 8s 3s/step\n",
      "2/2 [==============================] - 8s 3s/step\n",
      "2/2 [==============================] - 8s 3s/step\n",
      "2/2 [==============================] - 8s 3s/step\n",
      "2/2 [==============================] - 8s 3s/step\n",
      "2/2 [==============================] - 8s 3s/step\n",
      "2/2 [==============================] - 8s 3s/step\n",
      "2/2 [==============================] - 8s 3s/step\n",
      "2/2 [==============================] - 8s 3s/step\n",
      "2/2 [==============================] - 8s 3s/step\n",
      "2/2 [==============================] - 8s 3s/step\n",
      "2/2 [==============================] - 8s 3s/step\n",
      "2/2 [==============================] - 8s 3s/step\n",
      "2/2 [==============================] - 8s 3s/step\n",
      "2/2 [==============================] - 8s 3s/step\n",
      "2/2 [==============================] - 8s 3s/step\n",
      "2/2 [==============================] - 8s 3s/step\n",
      "2/2 [==============================] - 8s 3s/step\n",
      "2/2 [==============================] - 8s 3s/step\n",
      "2/2 [==============================] - 8s 3s/step\n",
      "2/2 [==============================] - 8s 3s/step\n",
      "2/2 [==============================] - 8s 3s/step\n",
      "2/2 [==============================] - 8s 3s/step\n",
      "2/2 [==============================] - 8s 3s/step\n",
      "2/2 [==============================] - 3258s 2s/step\n",
      "2/2 [==============================] - 7s 2s/step\n",
      "2/2 [==============================] - 7s 2s/step\n",
      "2/2 [==============================] - 8s 3s/step\n",
      "2/2 [==============================] - 8s 3s/step\n",
      "2/2 [==============================] - 8s 3s/step\n",
      "2/2 [==============================] - 8s 3s/step\n",
      "2/2 [==============================] - 9s 3s/step\n",
      "2/2 [==============================] - 9s 3s/step\n",
      "2/2 [==============================] - 9s 3s/step\n",
      "2/2 [==============================] - 9s 3s/step\n",
      "2/2 [==============================] - 9s 3s/step\n",
      "2/2 [==============================] - 9s 3s/step\n",
      "2/2 [==============================] - 9s 3s/step\n",
      "2/2 [==============================] - 9s 3s/step\n",
      "2/2 [==============================] - 9s 3s/step\n",
      "2/2 [==============================] - 9s 3s/step\n",
      "2/2 [==============================] - 9s 3s/step\n",
      "2/2 [==============================] - 9s 3s/step\n",
      "2/2 [==============================] - 9s 3s/step\n",
      "2/2 [==============================] - 9s 3s/step\n",
      "2/2 [==============================] - 9s 3s/step\n",
      "2/2 [==============================] - 9s 3s/step\n",
      "2/2 [==============================] - 9s 3s/step\n",
      "2/2 [==============================] - 9s 3s/step\n",
      "2/2 [==============================] - 9s 3s/step\n",
      "2/2 [==============================] - 9s 3s/step\n",
      "2/2 [==============================] - 9s 3s/step\n",
      "2/2 [==============================] - 9s 3s/step\n",
      "2/2 [==============================] - 9s 3s/step\n",
      "2/2 [==============================] - 9s 3s/step\n",
      "2/2 [==============================] - 9s 3s/step\n",
      "2/2 [==============================] - 9s 3s/step\n",
      "2/2 [==============================] - 9s 3s/step\n",
      "2/2 [==============================] - 9s 3s/step\n",
      "2/2 [==============================] - 444s 6s/step\n",
      "2/2 [==============================] - 452s 2s/step\n",
      "2/2 [==============================] - 28s 21s/step\n",
      "2/2 [==============================] - 46s 6s/step\n",
      "2/2 [==============================] - 13s 5s/step\n",
      "2/2 [==============================] - 16s 6s/step\n",
      "2/2 [==============================] - 19s 7s/step\n",
      "2/2 [==============================] - 17s 6s/step\n",
      "2/2 [==============================] - 14s 5s/step\n",
      "2/2 [==============================] - 15s 6s/step\n",
      "2/2 [==============================] - 16s 6s/step\n",
      "2/2 [==============================] - 15s 5s/step\n",
      "2/2 [==============================] - 15s 5s/step\n",
      "2/2 [==============================] - 16s 6s/step\n",
      "2/2 [==============================] - 17s 6s/step\n",
      "2/2 [==============================] - 15s 5s/step\n",
      "2/2 [==============================] - 15s 5s/step\n",
      "2/2 [==============================] - 15s 5s/step\n",
      "2/2 [==============================] - 17s 7s/step\n",
      "2/2 [==============================] - 17s 6s/step\n",
      "2/2 [==============================] - 15s 5s/step\n",
      "2/2 [==============================] - 15s 6s/step\n",
      "2/2 [==============================] - 15s 6s/step\n",
      "2/2 [==============================] - 16s 6s/step\n",
      "2/2 [==============================] - 17s 6s/step\n",
      "2/2 [==============================] - 15s 6s/step\n",
      "2/2 [==============================] - 15s 6s/step\n",
      "2/2 [==============================] - 15s 5s/step\n",
      "2/2 [==============================] - 16s 6s/step\n",
      "2/2 [==============================] - 16s 5s/step\n",
      "2/2 [==============================] - 15s 5s/step\n",
      "2/2 [==============================] - 15s 5s/step\n",
      "2/2 [==============================] - 15s 5s/step\n",
      "2/2 [==============================] - 16s 6s/step\n",
      "2/2 [==============================] - 16s 6s/step\n",
      "2/2 [==============================] - 16s 5s/step\n",
      "2/2 [==============================] - 16s 6s/step\n",
      "2/2 [==============================] - 16s 5s/step\n",
      "2/2 [==============================] - 15s 5s/step\n",
      "2/2 [==============================] - 15s 5s/step\n",
      "2/2 [==============================] - 15s 5s/step\n",
      "2/2 [==============================] - 16s 6s/step\n",
      "2/2 [==============================] - 16s 5s/step\n",
      "2/2 [==============================] - 15s 5s/step\n",
      "2/2 [==============================] - 15s 5s/step\n",
      "2/2 [==============================] - 15s 5s/step\n",
      "2/2 [==============================] - 15s 6s/step\n",
      "2/2 [==============================] - 16s 6s/step\n",
      "2/2 [==============================] - 15s 5s/step\n",
      "2/2 [==============================] - 15s 5s/step\n",
      "2/2 [==============================] - 16s 6s/step\n",
      "2/2 [==============================] - 22s 7s/step\n",
      "2/2 [==============================] - 20s 7s/step\n",
      "2/2 [==============================] - 22s 7s/step\n",
      "2/2 [==============================] - 20s 7s/step\n",
      "2/2 [==============================] - 22s 7s/step\n",
      "2/2 [==============================] - 20s 7s/step\n",
      "2/2 [==============================] - 20s 7s/step\n",
      "2/2 [==============================] - 20s 7s/step\n",
      "2/2 [==============================] - 20s 7s/step\n",
      "2/2 [==============================] - 20s 7s/step\n",
      "2/2 [==============================] - 21s 9s/step\n",
      "2/2 [==============================] - 20s 7s/step\n",
      "2/2 [==============================] - 20s 7s/step\n",
      "2/2 [==============================] - 21s 7s/step\n",
      "2/2 [==============================] - 20s 7s/step\n",
      "2/2 [==============================] - 20s 7s/step\n",
      "2/2 [==============================] - 20s 7s/step\n",
      "2/2 [==============================] - 22s 7s/step\n",
      "2/2 [==============================] - 20s 7s/step\n",
      "2/2 [==============================] - 20s 7s/step\n",
      "2/2 [==============================] - 22s 9s/step\n",
      "2/2 [==============================] - 20s 7s/step\n",
      "2/2 [==============================] - 22s 7s/step\n",
      "2/2 [==============================] - 22s 9s/step\n",
      "2/2 [==============================] - 20s 7s/step\n",
      "2/2 [==============================] - 22s 7s/step\n",
      "2/2 [==============================] - 21s 7s/step\n",
      "2/2 [==============================] - 20s 7s/step\n",
      "2/2 [==============================] - 21s 7s/step\n",
      "2/2 [==============================] - 22s 9s/step\n",
      "2/2 [==============================] - 20s 7s/step\n",
      "2/2 [==============================] - 22s 7s/step\n",
      "2/2 [==============================] - 22s 7s/step\n",
      "2/2 [==============================] - 22s 7s/step\n",
      "2/2 [==============================] - 22s 7s/step\n",
      "2/2 [==============================] - 22s 7s/step\n",
      "2/2 [==============================] - 24s 9s/step\n",
      "2/2 [==============================] - 22s 9s/step\n",
      "2/2 [==============================] - 22s 9s/step\n",
      "2/2 [==============================] - 22s 7s/step\n",
      "2/2 [==============================] - 22s 7s/step\n",
      "2/2 [==============================] - 24s 9s/step\n",
      "2/2 [==============================] - 22s 7s/step\n",
      "2/2 [==============================] - 23s 8s/step\n",
      "2/2 [==============================] - 22s 8s/step\n",
      "2/2 [==============================] - 24s 9s/step\n",
      "2/2 [==============================] - 22s 9s/step\n",
      "2/2 [==============================] - 22s 7s/step\n",
      "2/2 [==============================] - 24s 7s/step\n",
      "2/2 [==============================] - 3614s 3s/step\n",
      "2/2 [==============================] - 7s 2s/step\n",
      "2/2 [==============================] - 7s 3s/step\n",
      "2/2 [==============================] - 7s 3s/step\n",
      "2/2 [==============================] - 8s 3s/step\n",
      "2/2 [==============================] - 8s 3s/step\n",
      "2/2 [==============================] - 9s 3s/step\n",
      "2/2 [==============================] - 8s 3s/step\n",
      "2/2 [==============================] - 8s 3s/step\n",
      "2/2 [==============================] - 8s 3s/step\n",
      "2/2 [==============================] - 8s 3s/step\n",
      "2/2 [==============================] - 8s 3s/step\n",
      "2/2 [==============================] - 8s 3s/step\n",
      "2/2 [==============================] - 8s 3s/step\n",
      "2/2 [==============================] - 8s 3s/step\n",
      "2/2 [==============================] - 8s 3s/step\n",
      "2/2 [==============================] - 8s 3s/step\n",
      "2/2 [==============================] - 8s 3s/step\n",
      "2/2 [==============================] - 8s 3s/step\n",
      "2/2 [==============================] - 8s 3s/step\n",
      "2/2 [==============================] - 8s 3s/step\n",
      "2/2 [==============================] - 8s 3s/step\n",
      "2/2 [==============================] - 8s 3s/step\n",
      "2/2 [==============================] - 8s 3s/step\n",
      "2/2 [==============================] - 8s 3s/step\n",
      "2/2 [==============================] - 8s 3s/step\n",
      "2/2 [==============================] - 8s 3s/step\n",
      "2/2 [==============================] - 9s 3s/step\n",
      "2/2 [==============================] - 8s 3s/step\n",
      "2/2 [==============================] - 8s 3s/step\n",
      "2/2 [==============================] - 8s 3s/step\n",
      "2/2 [==============================] - 9s 3s/step\n",
      "2/2 [==============================] - 9s 3s/step\n",
      "2/2 [==============================] - 9s 3s/step\n",
      "2/2 [==============================] - 9s 3s/step\n",
      "2/2 [==============================] - 9s 3s/step\n",
      "2/2 [==============================] - 9s 3s/step\n",
      "2/2 [==============================] - 3606s 2s/step\n",
      "2/2 [==============================] - 7s 2s/step\n",
      "2/2 [==============================] - 6s 2s/step\n",
      "2/2 [==============================] - 7s 2s/step\n",
      "2/2 [==============================] - 7s 3s/step\n",
      "2/2 [==============================] - 7s 3s/step\n",
      "2/2 [==============================] - 7s 3s/step\n",
      "2/2 [==============================] - 7s 3s/step\n",
      "2/2 [==============================] - 7s 3s/step\n",
      "2/2 [==============================] - 7s 3s/step\n",
      "2/2 [==============================] - 7s 3s/step\n",
      "2/2 [==============================] - 7s 3s/step\n",
      "2/2 [==============================] - 7s 3s/step\n",
      "2/2 [==============================] - 7s 3s/step\n",
      "2/2 [==============================] - 7s 3s/step\n",
      "2/2 [==============================] - 7s 3s/step\n",
      "2/2 [==============================] - 7s 3s/step\n",
      "2/2 [==============================] - 7s 3s/step\n",
      "2/2 [==============================] - 7s 3s/step\n",
      "2/2 [==============================] - 7s 3s/step\n",
      "2/2 [==============================] - 7s 3s/step\n",
      "2/2 [==============================] - 7s 3s/step\n",
      "2/2 [==============================] - 7s 3s/step\n",
      "2/2 [==============================] - 7s 3s/step\n",
      "2/2 [==============================] - 7s 3s/step\n",
      "2/2 [==============================] - 7s 3s/step\n",
      "1/1 [==============================] - 4s 4s/step\n"
     ]
    }
   ],
   "source": [
    "for batch in test.as_numpy_iterator():\n",
    "    X, y = batch\n",
    "\n",
    "    yhat = np.argmax(vgg16_final_model.predict(np.array(X)))\n",
    "   \n",
    "\n",
    " "
   ]
  },
  {
   "cell_type": "code",
   "execution_count": null,
   "metadata": {},
   "outputs": [],
   "source": [
    "from sklearn.metrics import confusion_matrix\n",
    "from sklearn.metrics import accuracy_score\n",
    "from sklearn.metrics import precision_score\n",
    "from sklearn.metrics import recall_score\n",
    "from sklearn.metrics import f1_score\n",
    "import seaborn as sns"
   ]
  },
  {
   "cell_type": "code",
   "execution_count": null,
   "metadata": {},
   "outputs": [],
   "source": [
    "c_m = confusion_matrix(y,yhat) #c_m stands for confusion matrix\n",
    "\n",
    "print(c_m)\n",
    "sns.heatmap(c_m,cmap = \"Reds\",annot = True,cbar_kws={\"orientation\":\"vertical\",\"label\":\"color bar \"},xticklabels=[0,1],yticklabels=[0,1],fmt ='g')\n",
    "plt.xlabel(\"Predicted\")\n",
    "plt.ylabel(\"Actual\")\n",
    "plt.show()"
   ]
  },
  {
   "cell_type": "code",
   "execution_count": 61,
   "metadata": {},
   "outputs": [
    {
     "name": "stdout",
     "output_type": "stream",
     "text": [
      "0.0 0.0 0.0\n"
     ]
    }
   ],
   "source": [
    "print(precision.result().numpy(), recall.result().numpy(), acc.result().numpy())"
   ]
  },
  {
   "cell_type": "code",
   "execution_count": 300,
   "metadata": {},
   "outputs": [],
   "source": [
    "import cv2"
   ]
  },
  {
   "cell_type": "markdown",
   "metadata": {},
   "source": [
    "## Saving the model ##"
   ]
  },
  {
   "cell_type": "code",
   "execution_count": 384,
   "metadata": {},
   "outputs": [],
   "source": [
    "from tensorflow.keras.models import load_model\n",
    "vgg16_final_model.save(os.path.join('models','multiimageclassifier2.h5'))\n",
    "\n",
    "\n"
   ]
  },
  {
   "cell_type": "code",
   "execution_count": 418,
   "metadata": {},
   "outputs": [],
   "source": [
    "new_model = load_model('models/multiimageclassifier2.h5')\n",
    "model2 = load_model('models/multiimageclassifier.h5')\n"
   ]
  },
  {
   "cell_type": "code",
   "execution_count": 386,
   "metadata": {},
   "outputs": [
    {
     "name": "stdout",
     "output_type": "stream",
     "text": [
      "1/1 [==============================] - 0s 391ms/step\n"
     ]
    },
    {
     "data": {
      "text/plain": [
       "array([[2.1501009e-03, 4.1288708e-06, 3.3259806e-03, 4.0520267e-03,\n",
       "        9.7333860e-01, 8.7285629e-03, 2.9677789e-05, 7.1067450e-04,\n",
       "        4.6828398e-05, 7.5968797e-03, 1.6506601e-05, 1.1020931e-09]],\n",
       "      dtype=float32)"
      ]
     },
     "execution_count": 386,
     "metadata": {},
     "output_type": "execute_result"
    }
   ],
   "source": [
    "new_model.predict(np.expand_dims(resize/255, 0))"
   ]
  },
  {
   "cell_type": "code",
   "execution_count": 647,
   "metadata": {},
   "outputs": [
    {
     "data": {
      "image/png": "[encoded data removed]",
      "text/plain": [
       "<Figure size 432x288 with 1 Axes>"
      ]
     },
     "metadata": {
      "needs_background": "light"
     },
     "output_type": "display_data"
    },
    {
     "name": "stdout",
     "output_type": "stream",
     "text": [
      "1/1 [==============================] - 0s 243ms/step\n",
      "1/1 [==============================] - 0s 220ms/step\n",
      "1/1 [==============================] - 0s 188ms/step\n",
      "1/1 [==============================] - 0s 191ms/step\n",
      "Voltage Source\n",
      "Voltage Source\n"
     ]
    }
   ],
   "source": [
    "img = cv2.imread('data/vs/vs28.png')\n",
    "resize = tf.image.resize(img, (256,256))\n",
    "plt.imshow(resize.numpy().astype(int))\n",
    "plt.show()\n",
    "\n",
    "image_class =np.argmax(new_model.predict(np.expand_dims(resize/255, 0)))\n",
    "image_class2 =np.argmax(model2.predict(np.expand_dims(resize/255, 0)))\n",
    "added_image_class =np.argmax(0.4*(model2.predict(np.expand_dims(resize/255, 0)))+(0.6*new_model.predict(np.expand_dims(resize/255, 0))))\n",
    "\n",
    "\n",
    "\n",
    "def numbers_to_label(argument):\n",
    "    \n",
    "    switcher = {\n",
    "        0: \"Capacitor\",\n",
    "        1: \"Inductor\",\n",
    "        2: \"Resistor\",\n",
    "        3: \"BJT\",\n",
    "        4: \"Diode\",\n",
    "        5: \"Dependent Current Source\",\n",
    "        6: \"Dependent Voltage Source\",\n",
    "        7: \"Ground\",\n",
    "        8: \"Current Source\",\n",
    "        9: \"MOSFET\",\n",
    "        10: \"OP-AMP\",\n",
    "        11: \"Voltage Source\"\n",
    "\n",
    "    }\n",
    "      # get() method of dictionary data type returns\n",
    "    # value of passed argument if it is present\n",
    "    # in dictionary otherwise second argument will\n",
    "    # be assigned as default value of passed argument\n",
    "    return switcher.get(argument, \"nothing\")\n",
    "\n",
    "print(numbers_to_label(image_class))\n",
    "print(numbers_to_label(image_class2))\n",
    "\n",
    "\n"
   ]
  }
 ],
 "metadata": {
  "interpreter": {
   "hash": "f49fda3d7742ca9a513f85fd6933c9024143ba9fd5436d981d997fec91c7b199"
  },
  "kernelspec": {
   "display_name": "Python 3.8.6 ('project_env': venv)",
   "language": "python",
   "name": "python3"
  },
  "language_info": {
   "codemirror_mode": {
    "name": "ipython",
    "version": 3
   },
   "file_extension": ".py",
   "mimetype": "text/x-python",
   "name": "python",
   "nbconvert_exporter": "python",
   "pygments_lexer": "ipython3",
   "version": "3.8.6"
  },
  "orig_nbformat": 4
 },
 "nbformat": 4,
 "nbformat_minor": 2
}
